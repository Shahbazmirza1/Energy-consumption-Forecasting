{
 "cells": [
  {
   "cell_type": "code",
   "execution_count": 1,
   "id": "50a93b18",
   "metadata": {},
   "outputs": [],
   "source": [
    "import pandas as pd"
   ]
  },
  {
   "cell_type": "code",
   "execution_count": 24,
   "id": "6a0f80a6",
   "metadata": {},
   "outputs": [
    {
     "data": {
      "text/html": [
       "<div>\n",
       "<style scoped>\n",
       "    .dataframe tbody tr th:only-of-type {\n",
       "        vertical-align: middle;\n",
       "    }\n",
       "\n",
       "    .dataframe tbody tr th {\n",
       "        vertical-align: top;\n",
       "    }\n",
       "\n",
       "    .dataframe thead th {\n",
       "        text-align: right;\n",
       "    }\n",
       "</style>\n",
       "<table border=\"1\" class=\"dataframe\">\n",
       "  <thead>\n",
       "    <tr style=\"text-align: right;\">\n",
       "      <th></th>\n",
       "      <th>Datetime</th>\n",
       "      <th>PJME_MW</th>\n",
       "    </tr>\n",
       "  </thead>\n",
       "  <tbody>\n",
       "    <tr>\n",
       "      <th>0</th>\n",
       "      <td>2002-12-31 01:00:00</td>\n",
       "      <td>26498.0</td>\n",
       "    </tr>\n",
       "    <tr>\n",
       "      <th>1</th>\n",
       "      <td>2002-12-31 02:00:00</td>\n",
       "      <td>25147.0</td>\n",
       "    </tr>\n",
       "    <tr>\n",
       "      <th>2</th>\n",
       "      <td>2002-12-31 03:00:00</td>\n",
       "      <td>24574.0</td>\n",
       "    </tr>\n",
       "    <tr>\n",
       "      <th>3</th>\n",
       "      <td>2002-12-31 04:00:00</td>\n",
       "      <td>24393.0</td>\n",
       "    </tr>\n",
       "    <tr>\n",
       "      <th>4</th>\n",
       "      <td>2002-12-31 05:00:00</td>\n",
       "      <td>24860.0</td>\n",
       "    </tr>\n",
       "    <tr>\n",
       "      <th>...</th>\n",
       "      <td>...</td>\n",
       "      <td>...</td>\n",
       "    </tr>\n",
       "    <tr>\n",
       "      <th>145361</th>\n",
       "      <td>2018-01-01 20:00:00</td>\n",
       "      <td>44284.0</td>\n",
       "    </tr>\n",
       "    <tr>\n",
       "      <th>145362</th>\n",
       "      <td>2018-01-01 21:00:00</td>\n",
       "      <td>43751.0</td>\n",
       "    </tr>\n",
       "    <tr>\n",
       "      <th>145363</th>\n",
       "      <td>2018-01-01 22:00:00</td>\n",
       "      <td>42402.0</td>\n",
       "    </tr>\n",
       "    <tr>\n",
       "      <th>145364</th>\n",
       "      <td>2018-01-01 23:00:00</td>\n",
       "      <td>40164.0</td>\n",
       "    </tr>\n",
       "    <tr>\n",
       "      <th>145365</th>\n",
       "      <td>2018-01-02 00:00:00</td>\n",
       "      <td>38608.0</td>\n",
       "    </tr>\n",
       "  </tbody>\n",
       "</table>\n",
       "<p>145366 rows × 2 columns</p>\n",
       "</div>"
      ],
      "text/plain": [
       "                   Datetime  PJME_MW\n",
       "0       2002-12-31 01:00:00  26498.0\n",
       "1       2002-12-31 02:00:00  25147.0\n",
       "2       2002-12-31 03:00:00  24574.0\n",
       "3       2002-12-31 04:00:00  24393.0\n",
       "4       2002-12-31 05:00:00  24860.0\n",
       "...                     ...      ...\n",
       "145361  2018-01-01 20:00:00  44284.0\n",
       "145362  2018-01-01 21:00:00  43751.0\n",
       "145363  2018-01-01 22:00:00  42402.0\n",
       "145364  2018-01-01 23:00:00  40164.0\n",
       "145365  2018-01-02 00:00:00  38608.0\n",
       "\n",
       "[145366 rows x 2 columns]"
      ]
     },
     "execution_count": 24,
     "metadata": {},
     "output_type": "execute_result"
    }
   ],
   "source": [
    "df=pd.read_csv(\"D:/Study Material/semester 6/Data Mining Lab/Project/archive (1)/PJME_hourly.csv\")\n",
    "df"
   ]
  },
  {
   "cell_type": "markdown",
   "id": "7b92f0c1",
   "metadata": {},
   "source": [
    "# Preprocessing"
   ]
  },
  {
   "cell_type": "markdown",
   "id": "733f4087",
   "metadata": {},
   "source": [
    "### Make 2 columns from 1 column"
   ]
  },
  {
   "cell_type": "code",
   "execution_count": 25,
   "id": "afb8d1c5",
   "metadata": {},
   "outputs": [
    {
     "data": {
      "text/html": [
       "<div>\n",
       "<style scoped>\n",
       "    .dataframe tbody tr th:only-of-type {\n",
       "        vertical-align: middle;\n",
       "    }\n",
       "\n",
       "    .dataframe tbody tr th {\n",
       "        vertical-align: top;\n",
       "    }\n",
       "\n",
       "    .dataframe thead th {\n",
       "        text-align: right;\n",
       "    }\n",
       "</style>\n",
       "<table border=\"1\" class=\"dataframe\">\n",
       "  <thead>\n",
       "    <tr style=\"text-align: right;\">\n",
       "      <th></th>\n",
       "      <th>Datetime</th>\n",
       "      <th>PJME_MW</th>\n",
       "      <th>Date</th>\n",
       "      <th>Time</th>\n",
       "    </tr>\n",
       "  </thead>\n",
       "  <tbody>\n",
       "    <tr>\n",
       "      <th>0</th>\n",
       "      <td>2002-12-31 01:00:00</td>\n",
       "      <td>26498.0</td>\n",
       "      <td>2002-12-31</td>\n",
       "      <td>01:00:00</td>\n",
       "    </tr>\n",
       "    <tr>\n",
       "      <th>1</th>\n",
       "      <td>2002-12-31 02:00:00</td>\n",
       "      <td>25147.0</td>\n",
       "      <td>2002-12-31</td>\n",
       "      <td>02:00:00</td>\n",
       "    </tr>\n",
       "    <tr>\n",
       "      <th>2</th>\n",
       "      <td>2002-12-31 03:00:00</td>\n",
       "      <td>24574.0</td>\n",
       "      <td>2002-12-31</td>\n",
       "      <td>03:00:00</td>\n",
       "    </tr>\n",
       "    <tr>\n",
       "      <th>3</th>\n",
       "      <td>2002-12-31 04:00:00</td>\n",
       "      <td>24393.0</td>\n",
       "      <td>2002-12-31</td>\n",
       "      <td>04:00:00</td>\n",
       "    </tr>\n",
       "    <tr>\n",
       "      <th>4</th>\n",
       "      <td>2002-12-31 05:00:00</td>\n",
       "      <td>24860.0</td>\n",
       "      <td>2002-12-31</td>\n",
       "      <td>05:00:00</td>\n",
       "    </tr>\n",
       "    <tr>\n",
       "      <th>...</th>\n",
       "      <td>...</td>\n",
       "      <td>...</td>\n",
       "      <td>...</td>\n",
       "      <td>...</td>\n",
       "    </tr>\n",
       "    <tr>\n",
       "      <th>145361</th>\n",
       "      <td>2018-01-01 20:00:00</td>\n",
       "      <td>44284.0</td>\n",
       "      <td>2018-01-01</td>\n",
       "      <td>20:00:00</td>\n",
       "    </tr>\n",
       "    <tr>\n",
       "      <th>145362</th>\n",
       "      <td>2018-01-01 21:00:00</td>\n",
       "      <td>43751.0</td>\n",
       "      <td>2018-01-01</td>\n",
       "      <td>21:00:00</td>\n",
       "    </tr>\n",
       "    <tr>\n",
       "      <th>145363</th>\n",
       "      <td>2018-01-01 22:00:00</td>\n",
       "      <td>42402.0</td>\n",
       "      <td>2018-01-01</td>\n",
       "      <td>22:00:00</td>\n",
       "    </tr>\n",
       "    <tr>\n",
       "      <th>145364</th>\n",
       "      <td>2018-01-01 23:00:00</td>\n",
       "      <td>40164.0</td>\n",
       "      <td>2018-01-01</td>\n",
       "      <td>23:00:00</td>\n",
       "    </tr>\n",
       "    <tr>\n",
       "      <th>145365</th>\n",
       "      <td>2018-01-02 00:00:00</td>\n",
       "      <td>38608.0</td>\n",
       "      <td>2018-01-02</td>\n",
       "      <td>00:00:00</td>\n",
       "    </tr>\n",
       "  </tbody>\n",
       "</table>\n",
       "<p>145366 rows × 4 columns</p>\n",
       "</div>"
      ],
      "text/plain": [
       "                  Datetime  PJME_MW        Date      Time\n",
       "0      2002-12-31 01:00:00  26498.0  2002-12-31  01:00:00\n",
       "1      2002-12-31 02:00:00  25147.0  2002-12-31  02:00:00\n",
       "2      2002-12-31 03:00:00  24574.0  2002-12-31  03:00:00\n",
       "3      2002-12-31 04:00:00  24393.0  2002-12-31  04:00:00\n",
       "4      2002-12-31 05:00:00  24860.0  2002-12-31  05:00:00\n",
       "...                    ...      ...         ...       ...\n",
       "145361 2018-01-01 20:00:00  44284.0  2018-01-01  20:00:00\n",
       "145362 2018-01-01 21:00:00  43751.0  2018-01-01  21:00:00\n",
       "145363 2018-01-01 22:00:00  42402.0  2018-01-01  22:00:00\n",
       "145364 2018-01-01 23:00:00  40164.0  2018-01-01  23:00:00\n",
       "145365 2018-01-02 00:00:00  38608.0  2018-01-02  00:00:00\n",
       "\n",
       "[145366 rows x 4 columns]"
      ]
     },
     "execution_count": 25,
     "metadata": {},
     "output_type": "execute_result"
    }
   ],
   "source": [
    "# Convert 'Datetime' column to pandas datetime object\n",
    "df['Datetime'] = pd.to_datetime(df['Datetime'])\n",
    "\n",
    "# Extract date and time components into separate columns\n",
    "df['Date'] = df['Datetime'].dt.date\n",
    "df['Time'] = df['Datetime'].dt.time\n",
    "\n",
    "df"
   ]
  },
  {
   "cell_type": "code",
   "execution_count": 26,
   "id": "6924ca2d",
   "metadata": {},
   "outputs": [],
   "source": [
    "# Drop the 'Datetime' column\n",
    "df = df.drop(columns=['Datetime'])"
   ]
  },
  {
   "cell_type": "code",
   "execution_count": 27,
   "id": "ac21b867",
   "metadata": {},
   "outputs": [
    {
     "data": {
      "text/html": [
       "<div>\n",
       "<style scoped>\n",
       "    .dataframe tbody tr th:only-of-type {\n",
       "        vertical-align: middle;\n",
       "    }\n",
       "\n",
       "    .dataframe tbody tr th {\n",
       "        vertical-align: top;\n",
       "    }\n",
       "\n",
       "    .dataframe thead th {\n",
       "        text-align: right;\n",
       "    }\n",
       "</style>\n",
       "<table border=\"1\" class=\"dataframe\">\n",
       "  <thead>\n",
       "    <tr style=\"text-align: right;\">\n",
       "      <th></th>\n",
       "      <th>PJME_MW</th>\n",
       "      <th>Date</th>\n",
       "      <th>Time</th>\n",
       "    </tr>\n",
       "  </thead>\n",
       "  <tbody>\n",
       "    <tr>\n",
       "      <th>0</th>\n",
       "      <td>26498.0</td>\n",
       "      <td>2002-12-31</td>\n",
       "      <td>01:00:00</td>\n",
       "    </tr>\n",
       "    <tr>\n",
       "      <th>1</th>\n",
       "      <td>25147.0</td>\n",
       "      <td>2002-12-31</td>\n",
       "      <td>02:00:00</td>\n",
       "    </tr>\n",
       "    <tr>\n",
       "      <th>2</th>\n",
       "      <td>24574.0</td>\n",
       "      <td>2002-12-31</td>\n",
       "      <td>03:00:00</td>\n",
       "    </tr>\n",
       "    <tr>\n",
       "      <th>3</th>\n",
       "      <td>24393.0</td>\n",
       "      <td>2002-12-31</td>\n",
       "      <td>04:00:00</td>\n",
       "    </tr>\n",
       "    <tr>\n",
       "      <th>4</th>\n",
       "      <td>24860.0</td>\n",
       "      <td>2002-12-31</td>\n",
       "      <td>05:00:00</td>\n",
       "    </tr>\n",
       "    <tr>\n",
       "      <th>...</th>\n",
       "      <td>...</td>\n",
       "      <td>...</td>\n",
       "      <td>...</td>\n",
       "    </tr>\n",
       "    <tr>\n",
       "      <th>145361</th>\n",
       "      <td>44284.0</td>\n",
       "      <td>2018-01-01</td>\n",
       "      <td>20:00:00</td>\n",
       "    </tr>\n",
       "    <tr>\n",
       "      <th>145362</th>\n",
       "      <td>43751.0</td>\n",
       "      <td>2018-01-01</td>\n",
       "      <td>21:00:00</td>\n",
       "    </tr>\n",
       "    <tr>\n",
       "      <th>145363</th>\n",
       "      <td>42402.0</td>\n",
       "      <td>2018-01-01</td>\n",
       "      <td>22:00:00</td>\n",
       "    </tr>\n",
       "    <tr>\n",
       "      <th>145364</th>\n",
       "      <td>40164.0</td>\n",
       "      <td>2018-01-01</td>\n",
       "      <td>23:00:00</td>\n",
       "    </tr>\n",
       "    <tr>\n",
       "      <th>145365</th>\n",
       "      <td>38608.0</td>\n",
       "      <td>2018-01-02</td>\n",
       "      <td>00:00:00</td>\n",
       "    </tr>\n",
       "  </tbody>\n",
       "</table>\n",
       "<p>145366 rows × 3 columns</p>\n",
       "</div>"
      ],
      "text/plain": [
       "        PJME_MW        Date      Time\n",
       "0       26498.0  2002-12-31  01:00:00\n",
       "1       25147.0  2002-12-31  02:00:00\n",
       "2       24574.0  2002-12-31  03:00:00\n",
       "3       24393.0  2002-12-31  04:00:00\n",
       "4       24860.0  2002-12-31  05:00:00\n",
       "...         ...         ...       ...\n",
       "145361  44284.0  2018-01-01  20:00:00\n",
       "145362  43751.0  2018-01-01  21:00:00\n",
       "145363  42402.0  2018-01-01  22:00:00\n",
       "145364  40164.0  2018-01-01  23:00:00\n",
       "145365  38608.0  2018-01-02  00:00:00\n",
       "\n",
       "[145366 rows x 3 columns]"
      ]
     },
     "execution_count": 27,
     "metadata": {},
     "output_type": "execute_result"
    }
   ],
   "source": [
    "df"
   ]
  },
  {
   "cell_type": "code",
   "execution_count": null,
   "id": "43502f5b",
   "metadata": {},
   "outputs": [],
   "source": []
  },
  {
   "cell_type": "code",
   "execution_count": null,
   "id": "afa2d8cf",
   "metadata": {},
   "outputs": [],
   "source": []
  },
  {
   "cell_type": "markdown",
   "id": "2f21e3ff",
   "metadata": {},
   "source": [
    "### Cleaning"
   ]
  },
  {
   "cell_type": "code",
   "execution_count": 40,
   "id": "ab8fbe53",
   "metadata": {},
   "outputs": [
    {
     "name": "stdout",
     "output_type": "stream",
     "text": [
      "PJME_MW    float64\n",
      "Date        object\n",
      "Time        object\n",
      "dtype: object\n"
     ]
    }
   ],
   "source": [
    "print(df.dtypes)"
   ]
  },
  {
   "cell_type": "code",
   "execution_count": 41,
   "id": "977ae5de",
   "metadata": {},
   "outputs": [
    {
     "name": "stdout",
     "output_type": "stream",
     "text": [
      "Missing values:\n",
      " PJME_MW    0\n",
      "Date       0\n",
      "Time       0\n",
      "dtype: int64\n"
     ]
    }
   ],
   "source": [
    "# Check for missing values\n",
    "missing_values = df.isnull().sum()\n",
    "print(\"Missing values:\\n\", missing_values)"
   ]
  },
  {
   "cell_type": "code",
   "execution_count": 42,
   "id": "111ea2e5",
   "metadata": {},
   "outputs": [
    {
     "name": "stdout",
     "output_type": "stream",
     "text": [
      "Null values:\n",
      " PJME_MW    0\n",
      "Date       0\n",
      "Time       0\n",
      "dtype: int64\n"
     ]
    }
   ],
   "source": [
    "# Check for null values\n",
    "null_values = df.isnull().sum()\n",
    "print(\"Null values:\\n\", null_values)\n"
   ]
  },
  {
   "cell_type": "code",
   "execution_count": 43,
   "id": "be26f826",
   "metadata": {},
   "outputs": [
    {
     "name": "stdout",
     "output_type": "stream",
     "text": [
      "Number of duplicate rows: 0\n"
     ]
    }
   ],
   "source": [
    "# Check for duplicate rows\n",
    "duplicate_rows = df.duplicated().sum()\n",
    "print(\"Number of duplicate rows:\", duplicate_rows)\n"
   ]
  },
  {
   "cell_type": "code",
   "execution_count": 44,
   "id": "d9546bcf",
   "metadata": {},
   "outputs": [
    {
     "name": "stdout",
     "output_type": "stream",
     "text": [
      "There are no zeros in the 'PJME_MW' column.\n"
     ]
    }
   ],
   "source": [
    "# Check for zeros in the 'PJME_MW' column\n",
    "zeros_mask = (df['PJME_MW'] == 0)\n",
    "zeros_count = zeros_mask.sum()\n",
    "\n",
    "if zeros_count > 0:\n",
    "    print(\"There are\", zeros_count, \"zeros in the 'PJME_MW' column.\")\n",
    "else:\n",
    "    print(\"There are no zeros in the 'PJME_MW' column.\")\n"
   ]
  },
  {
   "cell_type": "markdown",
   "id": "2cae04d9",
   "metadata": {},
   "source": [
    "## Visulaize the Data"
   ]
  },
  {
   "cell_type": "code",
   "execution_count": 11,
   "id": "5dbf95a7",
   "metadata": {},
   "outputs": [
    {
     "data": {
      "image/png": "[encoded data removed]",
      "text/plain": [
       "<Figure size 864x432 with 1 Axes>"
      ]
     },
     "metadata": {
      "needs_background": "light"
     },
     "output_type": "display_data"
    }
   ],
   "source": [
    "import matplotlib.pyplot as plt\n",
    "\n",
    "# Convert 'Date' column to datetime object\n",
    "df['Date'] = pd.to_datetime(df['Date'])\n",
    "\n",
    "# Plot the data\n",
    "plt.figure(figsize=(12, 6))\n",
    "plt.plot(df['Date'], df['PJME_MW'], marker='o', linestyle='-')\n",
    "plt.title('PJME_MW over Time')\n",
    "plt.xlabel('Date')\n",
    "plt.ylabel('PJME_MW')\n",
    "plt.grid(True)\n",
    "plt.tight_layout()\n",
    "plt.show()\n"
   ]
  },
  {
   "cell_type": "code",
   "execution_count": null,
   "id": "cc4c24a9",
   "metadata": {},
   "outputs": [],
   "source": []
  },
  {
   "cell_type": "code",
   "execution_count": null,
   "id": "48d9ed51",
   "metadata": {},
   "outputs": [],
   "source": []
  },
  {
   "cell_type": "markdown",
   "id": "0727d949",
   "metadata": {},
   "source": [
    "## Standardization"
   ]
  },
  {
   "cell_type": "code",
   "execution_count": 28,
   "id": "1d7facac",
   "metadata": {},
   "outputs": [],
   "source": [
    "from sklearn.preprocessing import StandardScaler\n",
    "\n",
    "# Initialize the StandardScaler\n",
    "scaler = StandardScaler()\n",
    "\n",
    "# Fit and transform the 'PJME_MW' column\n",
    "df['PJME_MW_standardized'] = scaler.fit_transform(df[['PJME_MW']])"
   ]
  },
  {
   "cell_type": "code",
   "execution_count": 29,
   "id": "c922daa8",
   "metadata": {},
   "outputs": [
    {
     "data": {
      "text/html": [
       "<div>\n",
       "<style scoped>\n",
       "    .dataframe tbody tr th:only-of-type {\n",
       "        vertical-align: middle;\n",
       "    }\n",
       "\n",
       "    .dataframe tbody tr th {\n",
       "        vertical-align: top;\n",
       "    }\n",
       "\n",
       "    .dataframe thead th {\n",
       "        text-align: right;\n",
       "    }\n",
       "</style>\n",
       "<table border=\"1\" class=\"dataframe\">\n",
       "  <thead>\n",
       "    <tr style=\"text-align: right;\">\n",
       "      <th></th>\n",
       "      <th>PJME_MW</th>\n",
       "      <th>Date</th>\n",
       "      <th>Time</th>\n",
       "      <th>PJME_MW_standardized</th>\n",
       "    </tr>\n",
       "  </thead>\n",
       "  <tbody>\n",
       "    <tr>\n",
       "      <th>0</th>\n",
       "      <td>26498.0</td>\n",
       "      <td>2002-12-31</td>\n",
       "      <td>01:00:00</td>\n",
       "      <td>-0.863588</td>\n",
       "    </tr>\n",
       "    <tr>\n",
       "      <th>1</th>\n",
       "      <td>25147.0</td>\n",
       "      <td>2002-12-31</td>\n",
       "      <td>02:00:00</td>\n",
       "      <td>-1.072592</td>\n",
       "    </tr>\n",
       "    <tr>\n",
       "      <th>2</th>\n",
       "      <td>24574.0</td>\n",
       "      <td>2002-12-31</td>\n",
       "      <td>03:00:00</td>\n",
       "      <td>-1.161237</td>\n",
       "    </tr>\n",
       "    <tr>\n",
       "      <th>3</th>\n",
       "      <td>24393.0</td>\n",
       "      <td>2002-12-31</td>\n",
       "      <td>04:00:00</td>\n",
       "      <td>-1.189238</td>\n",
       "    </tr>\n",
       "    <tr>\n",
       "      <th>4</th>\n",
       "      <td>24860.0</td>\n",
       "      <td>2002-12-31</td>\n",
       "      <td>05:00:00</td>\n",
       "      <td>-1.116992</td>\n",
       "    </tr>\n",
       "    <tr>\n",
       "      <th>...</th>\n",
       "      <td>...</td>\n",
       "      <td>...</td>\n",
       "      <td>...</td>\n",
       "      <td>...</td>\n",
       "    </tr>\n",
       "    <tr>\n",
       "      <th>145361</th>\n",
       "      <td>44284.0</td>\n",
       "      <td>2018-01-01</td>\n",
       "      <td>20:00:00</td>\n",
       "      <td>1.887964</td>\n",
       "    </tr>\n",
       "    <tr>\n",
       "      <th>145362</th>\n",
       "      <td>43751.0</td>\n",
       "      <td>2018-01-01</td>\n",
       "      <td>21:00:00</td>\n",
       "      <td>1.805507</td>\n",
       "    </tr>\n",
       "    <tr>\n",
       "      <th>145363</th>\n",
       "      <td>42402.0</td>\n",
       "      <td>2018-01-01</td>\n",
       "      <td>22:00:00</td>\n",
       "      <td>1.596812</td>\n",
       "    </tr>\n",
       "    <tr>\n",
       "      <th>145364</th>\n",
       "      <td>40164.0</td>\n",
       "      <td>2018-01-01</td>\n",
       "      <td>23:00:00</td>\n",
       "      <td>1.250586</td>\n",
       "    </tr>\n",
       "    <tr>\n",
       "      <th>145365</th>\n",
       "      <td>38608.0</td>\n",
       "      <td>2018-01-02</td>\n",
       "      <td>00:00:00</td>\n",
       "      <td>1.009868</td>\n",
       "    </tr>\n",
       "  </tbody>\n",
       "</table>\n",
       "<p>145366 rows × 4 columns</p>\n",
       "</div>"
      ],
      "text/plain": [
       "        PJME_MW        Date      Time  PJME_MW_standardized\n",
       "0       26498.0  2002-12-31  01:00:00             -0.863588\n",
       "1       25147.0  2002-12-31  02:00:00             -1.072592\n",
       "2       24574.0  2002-12-31  03:00:00             -1.161237\n",
       "3       24393.0  2002-12-31  04:00:00             -1.189238\n",
       "4       24860.0  2002-12-31  05:00:00             -1.116992\n",
       "...         ...         ...       ...                   ...\n",
       "145361  44284.0  2018-01-01  20:00:00              1.887964\n",
       "145362  43751.0  2018-01-01  21:00:00              1.805507\n",
       "145363  42402.0  2018-01-01  22:00:00              1.596812\n",
       "145364  40164.0  2018-01-01  23:00:00              1.250586\n",
       "145365  38608.0  2018-01-02  00:00:00              1.009868\n",
       "\n",
       "[145366 rows x 4 columns]"
      ]
     },
     "execution_count": 29,
     "metadata": {},
     "output_type": "execute_result"
    }
   ],
   "source": [
    "df"
   ]
  },
  {
   "cell_type": "code",
   "execution_count": 30,
   "id": "b044b492",
   "metadata": {},
   "outputs": [],
   "source": [
    "df[\"PJME_MW\"]=df[\"PJME_MW_standardized\"]"
   ]
  },
  {
   "cell_type": "code",
   "execution_count": 31,
   "id": "793105e6",
   "metadata": {},
   "outputs": [
    {
     "data": {
      "text/html": [
       "<div>\n",
       "<style scoped>\n",
       "    .dataframe tbody tr th:only-of-type {\n",
       "        vertical-align: middle;\n",
       "    }\n",
       "\n",
       "    .dataframe tbody tr th {\n",
       "        vertical-align: top;\n",
       "    }\n",
       "\n",
       "    .dataframe thead th {\n",
       "        text-align: right;\n",
       "    }\n",
       "</style>\n",
       "<table border=\"1\" class=\"dataframe\">\n",
       "  <thead>\n",
       "    <tr style=\"text-align: right;\">\n",
       "      <th></th>\n",
       "      <th>PJME_MW</th>\n",
       "      <th>Date</th>\n",
       "      <th>Time</th>\n",
       "    </tr>\n",
       "  </thead>\n",
       "  <tbody>\n",
       "    <tr>\n",
       "      <th>0</th>\n",
       "      <td>-0.863588</td>\n",
       "      <td>2002-12-31</td>\n",
       "      <td>01:00:00</td>\n",
       "    </tr>\n",
       "    <tr>\n",
       "      <th>1</th>\n",
       "      <td>-1.072592</td>\n",
       "      <td>2002-12-31</td>\n",
       "      <td>02:00:00</td>\n",
       "    </tr>\n",
       "    <tr>\n",
       "      <th>2</th>\n",
       "      <td>-1.161237</td>\n",
       "      <td>2002-12-31</td>\n",
       "      <td>03:00:00</td>\n",
       "    </tr>\n",
       "    <tr>\n",
       "      <th>3</th>\n",
       "      <td>-1.189238</td>\n",
       "      <td>2002-12-31</td>\n",
       "      <td>04:00:00</td>\n",
       "    </tr>\n",
       "    <tr>\n",
       "      <th>4</th>\n",
       "      <td>-1.116992</td>\n",
       "      <td>2002-12-31</td>\n",
       "      <td>05:00:00</td>\n",
       "    </tr>\n",
       "    <tr>\n",
       "      <th>...</th>\n",
       "      <td>...</td>\n",
       "      <td>...</td>\n",
       "      <td>...</td>\n",
       "    </tr>\n",
       "    <tr>\n",
       "      <th>145361</th>\n",
       "      <td>1.887964</td>\n",
       "      <td>2018-01-01</td>\n",
       "      <td>20:00:00</td>\n",
       "    </tr>\n",
       "    <tr>\n",
       "      <th>145362</th>\n",
       "      <td>1.805507</td>\n",
       "      <td>2018-01-01</td>\n",
       "      <td>21:00:00</td>\n",
       "    </tr>\n",
       "    <tr>\n",
       "      <th>145363</th>\n",
       "      <td>1.596812</td>\n",
       "      <td>2018-01-01</td>\n",
       "      <td>22:00:00</td>\n",
       "    </tr>\n",
       "    <tr>\n",
       "      <th>145364</th>\n",
       "      <td>1.250586</td>\n",
       "      <td>2018-01-01</td>\n",
       "      <td>23:00:00</td>\n",
       "    </tr>\n",
       "    <tr>\n",
       "      <th>145365</th>\n",
       "      <td>1.009868</td>\n",
       "      <td>2018-01-02</td>\n",
       "      <td>00:00:00</td>\n",
       "    </tr>\n",
       "  </tbody>\n",
       "</table>\n",
       "<p>145366 rows × 3 columns</p>\n",
       "</div>"
      ],
      "text/plain": [
       "         PJME_MW        Date      Time\n",
       "0      -0.863588  2002-12-31  01:00:00\n",
       "1      -1.072592  2002-12-31  02:00:00\n",
       "2      -1.161237  2002-12-31  03:00:00\n",
       "3      -1.189238  2002-12-31  04:00:00\n",
       "4      -1.116992  2002-12-31  05:00:00\n",
       "...          ...         ...       ...\n",
       "145361  1.887964  2018-01-01  20:00:00\n",
       "145362  1.805507  2018-01-01  21:00:00\n",
       "145363  1.596812  2018-01-01  22:00:00\n",
       "145364  1.250586  2018-01-01  23:00:00\n",
       "145365  1.009868  2018-01-02  00:00:00\n",
       "\n",
       "[145366 rows x 3 columns]"
      ]
     },
     "execution_count": 31,
     "metadata": {},
     "output_type": "execute_result"
    }
   ],
   "source": [
    "df.drop(columns=['PJME_MW_standardized'], inplace=True)\n",
    "df"
   ]
  },
  {
   "cell_type": "markdown",
   "id": "e3dc2742",
   "metadata": {},
   "source": [
    "## Check if Data is Stationary"
   ]
  },
  {
   "cell_type": "code",
   "execution_count": 16,
   "id": "3d0d3578",
   "metadata": {},
   "outputs": [
    {
     "data": {
      "image/png": "[encoded data removed]",
      "text/plain": [
       "<Figure size 720x432 with 1 Axes>"
      ]
     },
     "metadata": {
      "needs_background": "light"
     },
     "output_type": "display_data"
    }
   ],
   "source": [
    "import matplotlib.pyplot as plt\n",
    "\n",
    "# Plot the 'PJME_MW' time series data\n",
    "plt.figure(figsize=(10, 6))\n",
    "plt.plot(df['PJME_MW'])\n",
    "plt.title('PJME_MW Time Series')\n",
    "plt.xlabel('Date')\n",
    "plt.ylabel('PJME_MW')\n",
    "plt.grid(True)\n",
    "plt.show()\n"
   ]
  },
  {
   "cell_type": "code",
   "execution_count": 17,
   "id": "54357e82",
   "metadata": {
    "scrolled": true
   },
   "outputs": [
    {
     "name": "stdout",
     "output_type": "stream",
     "text": [
      "ADF Statistic: -18.828912729084507\n",
      "p-value: 2.0221245081527322e-30\n",
      "Critical Values:\n",
      "   1%: -3.430395009088914\n",
      "   5%: -2.861559893380481\n",
      "   10%: -2.5667805885384065\n"
     ]
    }
   ],
   "source": [
    "from statsmodels.tsa.stattools import adfuller\n",
    "\n",
    "# Perform ADF test\n",
    "result = adfuller(df['PJME_MW'])\n",
    "print('ADF Statistic:', result[0])\n",
    "print('p-value:', result[1])\n",
    "print('Critical Values:')\n",
    "for key, value in result[4].items():\n",
    "    print(f'   {key}: {value}')\n"
   ]
  },
  {
   "cell_type": "markdown",
   "id": "26f905c2",
   "metadata": {},
   "source": [
    "#### As the data is already stationary so we dont need to do any thing"
   ]
  },
  {
   "cell_type": "code",
   "execution_count": null,
   "id": "4695dcda",
   "metadata": {},
   "outputs": [],
   "source": []
  },
  {
   "cell_type": "markdown",
   "id": "9abe2c78",
   "metadata": {},
   "source": [
    "# ML Algorithums"
   ]
  },
  {
   "cell_type": "markdown",
   "id": "12c7d593",
   "metadata": {},
   "source": [
    "## ARIMA"
   ]
  },
  {
   "cell_type": "code",
   "execution_count": 18,
   "id": "c5b2d87f",
   "metadata": {},
   "outputs": [
    {
     "data": {
      "text/html": [
       "<div>\n",
       "<style scoped>\n",
       "    .dataframe tbody tr th:only-of-type {\n",
       "        vertical-align: middle;\n",
       "    }\n",
       "\n",
       "    .dataframe tbody tr th {\n",
       "        vertical-align: top;\n",
       "    }\n",
       "\n",
       "    .dataframe thead th {\n",
       "        text-align: right;\n",
       "    }\n",
       "</style>\n",
       "<table border=\"1\" class=\"dataframe\">\n",
       "  <thead>\n",
       "    <tr style=\"text-align: right;\">\n",
       "      <th></th>\n",
       "      <th>PJME_MW</th>\n",
       "      <th>Date</th>\n",
       "      <th>Time</th>\n",
       "    </tr>\n",
       "  </thead>\n",
       "  <tbody>\n",
       "    <tr>\n",
       "      <th>0</th>\n",
       "      <td>-0.863588</td>\n",
       "      <td>2002-12-31</td>\n",
       "      <td>01:00:00</td>\n",
       "    </tr>\n",
       "    <tr>\n",
       "      <th>1</th>\n",
       "      <td>-1.072592</td>\n",
       "      <td>2002-12-31</td>\n",
       "      <td>02:00:00</td>\n",
       "    </tr>\n",
       "    <tr>\n",
       "      <th>2</th>\n",
       "      <td>-1.161237</td>\n",
       "      <td>2002-12-31</td>\n",
       "      <td>03:00:00</td>\n",
       "    </tr>\n",
       "    <tr>\n",
       "      <th>3</th>\n",
       "      <td>-1.189238</td>\n",
       "      <td>2002-12-31</td>\n",
       "      <td>04:00:00</td>\n",
       "    </tr>\n",
       "    <tr>\n",
       "      <th>4</th>\n",
       "      <td>-1.116992</td>\n",
       "      <td>2002-12-31</td>\n",
       "      <td>05:00:00</td>\n",
       "    </tr>\n",
       "    <tr>\n",
       "      <th>...</th>\n",
       "      <td>...</td>\n",
       "      <td>...</td>\n",
       "      <td>...</td>\n",
       "    </tr>\n",
       "    <tr>\n",
       "      <th>145361</th>\n",
       "      <td>1.887964</td>\n",
       "      <td>2018-01-01</td>\n",
       "      <td>20:00:00</td>\n",
       "    </tr>\n",
       "    <tr>\n",
       "      <th>145362</th>\n",
       "      <td>1.805507</td>\n",
       "      <td>2018-01-01</td>\n",
       "      <td>21:00:00</td>\n",
       "    </tr>\n",
       "    <tr>\n",
       "      <th>145363</th>\n",
       "      <td>1.596812</td>\n",
       "      <td>2018-01-01</td>\n",
       "      <td>22:00:00</td>\n",
       "    </tr>\n",
       "    <tr>\n",
       "      <th>145364</th>\n",
       "      <td>1.250586</td>\n",
       "      <td>2018-01-01</td>\n",
       "      <td>23:00:00</td>\n",
       "    </tr>\n",
       "    <tr>\n",
       "      <th>145365</th>\n",
       "      <td>1.009868</td>\n",
       "      <td>2018-01-02</td>\n",
       "      <td>00:00:00</td>\n",
       "    </tr>\n",
       "  </tbody>\n",
       "</table>\n",
       "<p>145366 rows × 3 columns</p>\n",
       "</div>"
      ],
      "text/plain": [
       "         PJME_MW       Date      Time\n",
       "0      -0.863588 2002-12-31  01:00:00\n",
       "1      -1.072592 2002-12-31  02:00:00\n",
       "2      -1.161237 2002-12-31  03:00:00\n",
       "3      -1.189238 2002-12-31  04:00:00\n",
       "4      -1.116992 2002-12-31  05:00:00\n",
       "...          ...        ...       ...\n",
       "145361  1.887964 2018-01-01  20:00:00\n",
       "145362  1.805507 2018-01-01  21:00:00\n",
       "145363  1.596812 2018-01-01  22:00:00\n",
       "145364  1.250586 2018-01-01  23:00:00\n",
       "145365  1.009868 2018-01-02  00:00:00\n",
       "\n",
       "[145366 rows x 3 columns]"
      ]
     },
     "execution_count": 18,
     "metadata": {},
     "output_type": "execute_result"
    }
   ],
   "source": [
    "df"
   ]
  },
  {
   "cell_type": "code",
   "execution_count": 20,
   "id": "85ee31f5",
   "metadata": {},
   "outputs": [
    {
     "name": "stdout",
     "output_type": "stream",
     "text": [
      "Performing stepwise search to minimize aic\n",
      " ARIMA(2,1,2)(0,0,0)[0] intercept   : AIC=-98043.098, Time=123.11 sec\n",
      " ARIMA(0,1,0)(0,0,0)[0] intercept   : AIC=3306.318, Time=10.44 sec\n",
      " ARIMA(1,1,0)(0,0,0)[0] intercept   : AIC=-79916.204, Time=6.62 sec\n",
      " ARIMA(0,1,1)(0,0,0)[0] intercept   : AIC=-53592.331, Time=15.44 sec\n",
      " ARIMA(0,1,0)(0,0,0)[0]             : AIC=3304.318, Time=5.30 sec\n",
      " ARIMA(1,1,2)(0,0,0)[0] intercept   : AIC=-81166.706, Time=34.97 sec\n",
      " ARIMA(2,1,1)(0,0,0)[0] intercept   : AIC=-97043.108, Time=104.40 sec\n",
      " ARIMA(3,1,2)(0,0,0)[0] intercept   : AIC=-96798.382, Time=155.06 sec\n",
      " ARIMA(2,1,3)(0,0,0)[0] intercept   : AIC=-93743.062, Time=48.22 sec\n",
      " ARIMA(1,1,1)(0,0,0)[0] intercept   : AIC=-80563.938, Time=23.76 sec\n",
      " ARIMA(1,1,3)(0,0,0)[0] intercept   : AIC=-81382.032, Time=91.80 sec\n",
      " ARIMA(3,1,1)(0,0,0)[0] intercept   : AIC=-97884.740, Time=111.98 sec\n",
      " ARIMA(3,1,3)(0,0,0)[0] intercept   : AIC=inf, Time=48.18 sec\n",
      " ARIMA(2,1,2)(0,0,0)[0]             : AIC=-98151.153, Time=56.70 sec\n",
      " ARIMA(1,1,2)(0,0,0)[0]             : AIC=-81168.706, Time=15.54 sec\n",
      " ARIMA(2,1,1)(0,0,0)[0]             : AIC=-97047.954, Time=45.17 sec\n",
      " ARIMA(3,1,2)(0,0,0)[0]             : AIC=-97384.515, Time=73.69 sec\n",
      " ARIMA(2,1,3)(0,0,0)[0]             : AIC=-99121.437, Time=52.54 sec\n",
      " ARIMA(1,1,3)(0,0,0)[0]             : AIC=-81384.032, Time=27.66 sec\n",
      " ARIMA(3,1,3)(0,0,0)[0]             : AIC=-103442.216, Time=76.90 sec\n",
      " ARIMA(4,1,3)(0,0,0)[0]             : AIC=-105031.526, Time=87.83 sec\n",
      " ARIMA(4,1,2)(0,0,0)[0]             : AIC=-98007.454, Time=83.19 sec\n",
      " ARIMA(5,1,3)(0,0,0)[0]             : AIC=-105620.098, Time=106.50 sec\n",
      " ARIMA(5,1,2)(0,0,0)[0]             : AIC=-98852.238, Time=92.46 sec\n",
      " ARIMA(5,1,4)(0,0,0)[0]             : AIC=-98023.818, Time=104.02 sec\n",
      " ARIMA(4,1,4)(0,0,0)[0]             : AIC=-105345.822, Time=100.76 sec\n",
      " ARIMA(5,1,3)(0,0,0)[0] intercept   : AIC=-98981.066, Time=188.21 sec\n",
      "\n",
      "Best model:  ARIMA(5,1,3)(0,0,0)[0]          \n",
      "Total fit time: 1890.549 seconds\n",
      "Mean Squared Error (MSE): 1.3428156956496498\n",
      "Root Mean Squared Error (RMSE): 1.1587992473459974\n",
      "Mean Absolute Error (MAE): 0.8628344369616143\n",
      "R-squared (R2 Score): -0.31645695607347957\n"
     ]
    }
   ],
   "source": [
    "from pmdarima.arima import auto_arima\n",
    "from sklearn.metrics import mean_squared_error, mean_absolute_error, r2_score\n",
    "import numpy as np\n",
    "\n",
    "# Perform train-test split\n",
    "train_size = int(len(df) * 0.8)\n",
    "train_df = df[:train_size]\n",
    "test_df = df[train_size:]\n",
    "\n",
    "# Fit auto ARIMA model to train data\n",
    "model = auto_arima(train_df['PJME_MW'], seasonal=False, trace=True)  # You can set seasonal=True for seasonal ARIMA\n",
    "model.fit(train_df['PJME_MW'])\n",
    "\n",
    "# Forecast future values\n",
    "forecast = model.predict(n_periods=len(test_df))\n",
    "\n",
    "# Calculate metrics\n",
    "mse = mean_squared_error(test_df['PJME_MW'], forecast)\n",
    "rmse = np.sqrt(mse)\n",
    "mae = mean_absolute_error(test_df['PJME_MW'], forecast)\n",
    "r2 = r2_score(test_df['PJME_MW'], forecast)\n",
    "\n",
    "# Print metrics\n",
    "print(\"Mean Squared Error (MSE):\", mse)\n",
    "print(\"Root Mean Squared Error (RMSE):\", rmse)\n",
    "print(\"Mean Absolute Error (MAE):\", mae)\n",
    "print(\"R-squared (R2 Score):\", r2)\n"
   ]
  },
  {
   "cell_type": "code",
   "execution_count": 22,
   "id": "c6b8faee",
   "metadata": {},
   "outputs": [
    {
     "data": {
      "image/png": "[encoded data removed]",
      "text/plain": [
       "<Figure size 432x288 with 1 Axes>"
      ]
     },
     "metadata": {
      "needs_background": "light"
     },
     "output_type": "display_data"
    }
   ],
   "source": [
    "import matplotlib.pyplot as plt\n",
    "\n",
    "# Plot actual values\n",
    "plt.plot(test_df.index, test_df['PJME_MW'], label='Actual')\n",
    "\n",
    "# Plot predicted values\n",
    "plt.plot(test_df.index, forecast, label='Predicted')\n",
    "\n",
    "# Set plot labels and title\n",
    "plt.xlabel('Date')\n",
    "plt.ylabel('PJME_MW')\n",
    "plt.title('Actual vs. Predicted Values')\n",
    "\n",
    "# Add legend\n",
    "plt.legend()\n",
    "\n",
    "# Show plot\n",
    "plt.show()\n",
    "\n",
    "\n",
    "# import matplotlib.pyplot as plt\n",
    "\n",
    "# # Create figure and axes for two separate plots\n",
    "# fig, axs = plt.subplots(2, 1, figsize=(10, 8))\n",
    "\n",
    "# # Plot actual values\n",
    "# axs[0].plot(test_df.index, test_df['PJME_MW'], label='Actual', color='blue')\n",
    "\n",
    "# # Set plot labels and title for actual values plot\n",
    "# axs[0].set_xlabel('Date')\n",
    "# axs[0].set_ylabel('PJME_MW')\n",
    "# axs[0].set_title('Actual Hourly Consumption')\n",
    "\n",
    "# # Add legend\n",
    "# axs[0].legend()\n",
    "\n",
    "# # Plot predicted values\n",
    "# axs[1].plot(test_df.index, forecast, label='Predicted', color='orange')\n",
    "\n",
    "# # Set plot labels and title for predicted values plot\n",
    "# axs[1].set_xlabel('Date')\n",
    "# axs[1].set_ylabel('PJME_MW')\n",
    "# axs[1].set_title('Predicted Hourly Consumption')\n",
    "\n",
    "# # Add legend\n",
    "# axs[1].legend()\n",
    "\n",
    "# # Adjust layout to prevent overlap\n",
    "# plt.tight_layout()\n",
    "\n",
    "# # Show plots\n",
    "# plt.show()\n"
   ]
  },
  {
   "cell_type": "code",
   "execution_count": 23,
   "id": "e64d92fc",
   "metadata": {},
   "outputs": [
    {
     "name": "stdout",
     "output_type": "stream",
     "text": [
      "Model saved successfully at: D:/Study Material/semester 6/Data Mining Lab/Project/arima_model.pkl\n"
     ]
    }
   ],
   "source": [
    "import pickle\n",
    "\n",
    "# Save the trained model to a file\n",
    "model_filename = 'D:/Study Material/semester 6/Data Mining Lab/Project/arima_model.pkl'\n",
    "with open(model_filename, 'wb') as f:\n",
    "    pickle.dump(model, f)\n",
    "\n",
    "print(\"Model saved successfully at:\", model_filename)\n"
   ]
  },
  {
   "cell_type": "code",
   "execution_count": null,
   "id": "aea53258",
   "metadata": {},
   "outputs": [],
   "source": []
  },
  {
   "cell_type": "markdown",
   "id": "9c37bd9b",
   "metadata": {},
   "source": [
    "## ANN"
   ]
  },
  {
   "cell_type": "code",
   "execution_count": 32,
   "id": "24627b8f",
   "metadata": {},
   "outputs": [
    {
     "data": {
      "text/html": [
       "<div>\n",
       "<style scoped>\n",
       "    .dataframe tbody tr th:only-of-type {\n",
       "        vertical-align: middle;\n",
       "    }\n",
       "\n",
       "    .dataframe tbody tr th {\n",
       "        vertical-align: top;\n",
       "    }\n",
       "\n",
       "    .dataframe thead th {\n",
       "        text-align: right;\n",
       "    }\n",
       "</style>\n",
       "<table border=\"1\" class=\"dataframe\">\n",
       "  <thead>\n",
       "    <tr style=\"text-align: right;\">\n",
       "      <th></th>\n",
       "      <th>PJME_MW</th>\n",
       "      <th>Date</th>\n",
       "      <th>Time</th>\n",
       "    </tr>\n",
       "  </thead>\n",
       "  <tbody>\n",
       "    <tr>\n",
       "      <th>0</th>\n",
       "      <td>-0.863588</td>\n",
       "      <td>2002-12-31</td>\n",
       "      <td>01:00:00</td>\n",
       "    </tr>\n",
       "    <tr>\n",
       "      <th>1</th>\n",
       "      <td>-1.072592</td>\n",
       "      <td>2002-12-31</td>\n",
       "      <td>02:00:00</td>\n",
       "    </tr>\n",
       "    <tr>\n",
       "      <th>2</th>\n",
       "      <td>-1.161237</td>\n",
       "      <td>2002-12-31</td>\n",
       "      <td>03:00:00</td>\n",
       "    </tr>\n",
       "    <tr>\n",
       "      <th>3</th>\n",
       "      <td>-1.189238</td>\n",
       "      <td>2002-12-31</td>\n",
       "      <td>04:00:00</td>\n",
       "    </tr>\n",
       "    <tr>\n",
       "      <th>4</th>\n",
       "      <td>-1.116992</td>\n",
       "      <td>2002-12-31</td>\n",
       "      <td>05:00:00</td>\n",
       "    </tr>\n",
       "    <tr>\n",
       "      <th>...</th>\n",
       "      <td>...</td>\n",
       "      <td>...</td>\n",
       "      <td>...</td>\n",
       "    </tr>\n",
       "    <tr>\n",
       "      <th>145361</th>\n",
       "      <td>1.887964</td>\n",
       "      <td>2018-01-01</td>\n",
       "      <td>20:00:00</td>\n",
       "    </tr>\n",
       "    <tr>\n",
       "      <th>145362</th>\n",
       "      <td>1.805507</td>\n",
       "      <td>2018-01-01</td>\n",
       "      <td>21:00:00</td>\n",
       "    </tr>\n",
       "    <tr>\n",
       "      <th>145363</th>\n",
       "      <td>1.596812</td>\n",
       "      <td>2018-01-01</td>\n",
       "      <td>22:00:00</td>\n",
       "    </tr>\n",
       "    <tr>\n",
       "      <th>145364</th>\n",
       "      <td>1.250586</td>\n",
       "      <td>2018-01-01</td>\n",
       "      <td>23:00:00</td>\n",
       "    </tr>\n",
       "    <tr>\n",
       "      <th>145365</th>\n",
       "      <td>1.009868</td>\n",
       "      <td>2018-01-02</td>\n",
       "      <td>00:00:00</td>\n",
       "    </tr>\n",
       "  </tbody>\n",
       "</table>\n",
       "<p>145366 rows × 3 columns</p>\n",
       "</div>"
      ],
      "text/plain": [
       "         PJME_MW        Date      Time\n",
       "0      -0.863588  2002-12-31  01:00:00\n",
       "1      -1.072592  2002-12-31  02:00:00\n",
       "2      -1.161237  2002-12-31  03:00:00\n",
       "3      -1.189238  2002-12-31  04:00:00\n",
       "4      -1.116992  2002-12-31  05:00:00\n",
       "...          ...         ...       ...\n",
       "145361  1.887964  2018-01-01  20:00:00\n",
       "145362  1.805507  2018-01-01  21:00:00\n",
       "145363  1.596812  2018-01-01  22:00:00\n",
       "145364  1.250586  2018-01-01  23:00:00\n",
       "145365  1.009868  2018-01-02  00:00:00\n",
       "\n",
       "[145366 rows x 3 columns]"
      ]
     },
     "execution_count": 32,
     "metadata": {},
     "output_type": "execute_result"
    }
   ],
   "source": [
    "df"
   ]
  },
  {
   "cell_type": "code",
   "execution_count": 33,
   "id": "3cd31217",
   "metadata": {},
   "outputs": [],
   "source": [
    "# Convert 'Time' column to string format\n",
    "df['Time'] = df['Time'].astype(str)\n",
    "\n",
    "# Convert 'Time' column to datetime objects with a specified format\n",
    "df['Time'] = pd.to_datetime(df['Time'], format='%H:%M:%S')"
   ]
  },
  {
   "cell_type": "code",
   "execution_count": 34,
   "id": "813c959c",
   "metadata": {},
   "outputs": [],
   "source": [
    "import numpy as np\n",
    "import pandas as pd\n",
    "from sklearn.model_selection import train_test_split\n",
    "from sklearn.preprocessing import MinMaxScaler\n",
    "from tensorflow.keras.models import Sequential\n",
    "from tensorflow.keras.layers import Dense\n",
    "import matplotlib.pyplot as plt\n"
   ]
  },
  {
   "cell_type": "code",
   "execution_count": 35,
   "id": "5c70b3dc",
   "metadata": {},
   "outputs": [
    {
     "name": "stdout",
     "output_type": "stream",
     "text": [
      "Epoch 1/10\n",
      "2908/2908 [==============================] - 4s 1ms/step - loss: 0.5479 - val_loss: 0.4024\n",
      "Epoch 2/10\n",
      "2908/2908 [==============================] - 4s 1ms/step - loss: 0.3637 - val_loss: 0.3398\n",
      "Epoch 3/10\n",
      "2908/2908 [==============================] - 4s 1ms/step - loss: 0.3347 - val_loss: 0.3264\n",
      "Epoch 4/10\n",
      "2908/2908 [==============================] - 4s 1ms/step - loss: 0.3286 - val_loss: 0.3164\n",
      "Epoch 5/10\n",
      "2908/2908 [==============================] - 4s 1ms/step - loss: 0.3259 - val_loss: 0.3137\n",
      "Epoch 6/10\n",
      "2908/2908 [==============================] - 4s 1ms/step - loss: 0.3231 - val_loss: 0.3292\n",
      "Epoch 7/10\n",
      "2908/2908 [==============================] - 3s 1ms/step - loss: 0.3208 - val_loss: 0.3210\n",
      "Epoch 8/10\n",
      "2908/2908 [==============================] - 3s 1ms/step - loss: 0.3191 - val_loss: 0.3195\n",
      "Epoch 9/10\n",
      "2908/2908 [==============================] - 3s 1ms/step - loss: 0.3166 - val_loss: 0.3028\n",
      "Epoch 10/10\n",
      "2908/2908 [==============================] - 3s 1ms/step - loss: 0.3148 - val_loss: 0.3133\n",
      "909/909 [==============================] - 1s 693us/step\n"
     ]
    },
    {
     "data": {
      "image/png": "[encoded data removed]",
      "text/plain": [
       "<Figure size 864x432 with 1 Axes>"
      ]
     },
     "metadata": {
      "needs_background": "light"
     },
     "output_type": "display_data"
    }
   ],
   "source": [
    "\n",
    "# Prepare the data\n",
    "# Convert date and time columns to datetime objects\n",
    "df['Date'] = pd.to_datetime(df['Date'])\n",
    "df['Time'] = pd.to_datetime(df['Time'])\n",
    "\n",
    "# Extract features from date and time columns\n",
    "df['Year'] = df['Date'].dt.year\n",
    "df['Month'] = df['Date'].dt.month\n",
    "df['Day'] = df['Date'].dt.day\n",
    "df['Hour'] = df['Time'].dt.hour\n",
    "df['Minute'] = df['Time'].dt.minute\n",
    "\n",
    "# Drop original date and time columns\n",
    "df.drop(['Date', 'Time'], axis=1, inplace=True)\n",
    "\n",
    "# Split data into features and target variable\n",
    "X = df[['Year', 'Month', 'Day', 'Hour', 'Minute']]\n",
    "y = df['PJME_MW']\n",
    "\n",
    "# Normalize features\n",
    "scaler = MinMaxScaler()\n",
    "X_scaled = scaler.fit_transform(X)\n",
    "\n",
    "# Split data into train and test sets\n",
    "X_train, X_test, y_train, y_test = train_test_split(X_scaled, y, test_size=0.2, random_state=42)\n",
    "\n",
    "# Design the ANN\n",
    "model = Sequential([\n",
    "    Dense(64, activation='relu', input_shape=(X_train.shape[1],)),\n",
    "    Dense(64, activation='relu'),\n",
    "    Dense(1)\n",
    "])\n",
    "\n",
    "# Compile the model\n",
    "model.compile(optimizer='adam', loss='mean_squared_error')\n",
    "\n",
    "# Train the ANN\n",
    "history = model.fit(X_train, y_train, epochs=10, batch_size=32, validation_split=0.2)\n",
    "\n",
    "# Make predictions\n",
    "y_pred = model.predict(X_test)\n",
    "\n",
    "# Visualize predicted and actual values\n",
    "plt.figure(figsize=(12, 6))\n",
    "plt.plot(y_test.index, y_test, label='Actual Test Data')\n",
    "plt.plot(y_test.index, y_pred, label='Predicted Test Data')\n",
    "plt.title('ANN Model Forecast')\n",
    "plt.xlabel('Index')\n",
    "plt.ylabel('PJME_MW')\n",
    "plt.legend()\n",
    "plt.grid(True)\n",
    "plt.tight_layout()\n",
    "plt.show()\n"
   ]
  },
  {
   "cell_type": "code",
   "execution_count": 36,
   "id": "e9893bcc",
   "metadata": {},
   "outputs": [
    {
     "name": "stdout",
     "output_type": "stream",
     "text": [
      "Mean Squared Error (MSE): 0.3135450763579956\n",
      "Root Mean Squared Error (RMSE): 0.5599509588865758\n",
      "Mean Absolute Error (MAE): 0.4188629839231453\n",
      "R-squared (R2 Score): 0.6822802457970607\n"
     ]
    }
   ],
   "source": [
    "from sklearn.metrics import mean_squared_error, mean_absolute_error, r2_score\n",
    "\n",
    "# Calculate metrics\n",
    "mse = mean_squared_error(y_test, y_pred)\n",
    "rmse = np.sqrt(mse)\n",
    "mae = mean_absolute_error(y_test, y_pred)\n",
    "r2 = r2_score(y_test, y_pred)\n",
    "\n",
    "# Print metrics\n",
    "print(\"Mean Squared Error (MSE):\", mse)\n",
    "print(\"Root Mean Squared Error (RMSE):\", rmse)\n",
    "print(\"Mean Absolute Error (MAE):\", mae)\n",
    "print(\"R-squared (R2 Score):\", r2)\n"
   ]
  },
  {
   "cell_type": "code",
   "execution_count": 37,
   "id": "4c58f0ba",
   "metadata": {},
   "outputs": [
    {
     "name": "stdout",
     "output_type": "stream",
     "text": [
      "Model saved successfully at: D:/Study Material/semester 6/Data Mining Lab/Project/ann_model.pkl\n"
     ]
    }
   ],
   "source": [
    "import pickle\n",
    "\n",
    "# Save the trained model to a file\n",
    "model_filename = 'D:/Study Material/semester 6/Data Mining Lab/Project/ann_model.pkl'\n",
    "with open(model_filename, 'wb') as f:\n",
    "    pickle.dump(model, f)\n",
    "\n",
    "print(\"Model saved successfully at:\", model_filename)\n"
   ]
  },
  {
   "cell_type": "markdown",
   "id": "e3665f21",
   "metadata": {},
   "source": [
    "# SARIMA"
   ]
  },
  {
   "cell_type": "code",
   "execution_count": 24,
   "id": "c7fdbb79",
   "metadata": {},
   "outputs": [
    {
     "data": {
      "text/html": [
       "<div>\n",
       "<style scoped>\n",
       "    .dataframe tbody tr th:only-of-type {\n",
       "        vertical-align: middle;\n",
       "    }\n",
       "\n",
       "    .dataframe tbody tr th {\n",
       "        vertical-align: top;\n",
       "    }\n",
       "\n",
       "    .dataframe thead th {\n",
       "        text-align: right;\n",
       "    }\n",
       "</style>\n",
       "<table border=\"1\" class=\"dataframe\">\n",
       "  <thead>\n",
       "    <tr style=\"text-align: right;\">\n",
       "      <th></th>\n",
       "      <th>Datetime</th>\n",
       "      <th>PJME_MW</th>\n",
       "    </tr>\n",
       "  </thead>\n",
       "  <tbody>\n",
       "    <tr>\n",
       "      <th>0</th>\n",
       "      <td>2002-12-31 01:00:00</td>\n",
       "      <td>-0.863588</td>\n",
       "    </tr>\n",
       "    <tr>\n",
       "      <th>1</th>\n",
       "      <td>2002-12-31 02:00:00</td>\n",
       "      <td>-1.072592</td>\n",
       "    </tr>\n",
       "    <tr>\n",
       "      <th>2</th>\n",
       "      <td>2002-12-31 03:00:00</td>\n",
       "      <td>-1.161237</td>\n",
       "    </tr>\n",
       "    <tr>\n",
       "      <th>3</th>\n",
       "      <td>2002-12-31 04:00:00</td>\n",
       "      <td>-1.189238</td>\n",
       "    </tr>\n",
       "    <tr>\n",
       "      <th>4</th>\n",
       "      <td>2002-12-31 05:00:00</td>\n",
       "      <td>-1.116992</td>\n",
       "    </tr>\n",
       "    <tr>\n",
       "      <th>...</th>\n",
       "      <td>...</td>\n",
       "      <td>...</td>\n",
       "    </tr>\n",
       "    <tr>\n",
       "      <th>145361</th>\n",
       "      <td>2018-01-01 20:00:00</td>\n",
       "      <td>1.887964</td>\n",
       "    </tr>\n",
       "    <tr>\n",
       "      <th>145362</th>\n",
       "      <td>2018-01-01 21:00:00</td>\n",
       "      <td>1.805507</td>\n",
       "    </tr>\n",
       "    <tr>\n",
       "      <th>145363</th>\n",
       "      <td>2018-01-01 22:00:00</td>\n",
       "      <td>1.596812</td>\n",
       "    </tr>\n",
       "    <tr>\n",
       "      <th>145364</th>\n",
       "      <td>2018-01-01 23:00:00</td>\n",
       "      <td>1.250586</td>\n",
       "    </tr>\n",
       "    <tr>\n",
       "      <th>145365</th>\n",
       "      <td>2018-01-02 00:00:00</td>\n",
       "      <td>1.009868</td>\n",
       "    </tr>\n",
       "  </tbody>\n",
       "</table>\n",
       "<p>145366 rows × 2 columns</p>\n",
       "</div>"
      ],
      "text/plain": [
       "                   Datetime   PJME_MW\n",
       "0       2002-12-31 01:00:00 -0.863588\n",
       "1       2002-12-31 02:00:00 -1.072592\n",
       "2       2002-12-31 03:00:00 -1.161237\n",
       "3       2002-12-31 04:00:00 -1.189238\n",
       "4       2002-12-31 05:00:00 -1.116992\n",
       "...                     ...       ...\n",
       "145361  2018-01-01 20:00:00  1.887964\n",
       "145362  2018-01-01 21:00:00  1.805507\n",
       "145363  2018-01-01 22:00:00  1.596812\n",
       "145364  2018-01-01 23:00:00  1.250586\n",
       "145365  2018-01-02 00:00:00  1.009868\n",
       "\n",
       "[145366 rows x 2 columns]"
      ]
     },
     "execution_count": 24,
     "metadata": {},
     "output_type": "execute_result"
    }
   ],
   "source": [
    "df"
   ]
  },
  {
   "cell_type": "code",
   "execution_count": 25,
   "id": "aea3d25b",
   "metadata": {},
   "outputs": [
    {
     "name": "stdout",
     "output_type": "stream",
     "text": [
      "                 Datetime   PJME_MW\n",
      "0     2009-01-01 00:00:00  0.477534\n",
      "1     2009-12-31 01:00:00 -0.100746\n",
      "2     2009-12-31 02:00:00 -0.286545\n",
      "3     2009-12-31 03:00:00 -0.399633\n",
      "4     2009-12-31 04:00:00 -0.439701\n",
      "...                   ...       ...\n",
      "84008 2018-01-01 20:00:00  1.887964\n",
      "84009 2018-01-01 21:00:00  1.805507\n",
      "84010 2018-01-01 22:00:00  1.596812\n",
      "84011 2018-01-01 23:00:00  1.250586\n",
      "84012 2018-01-02 00:00:00  1.009868\n",
      "\n",
      "[84013 rows x 2 columns]\n"
     ]
    }
   ],
   "source": [
    "import pandas as pd\n",
    "\n",
    "# Assuming your DataFrame is named df\n",
    "# Convert 'Datetime' column to datetime type if it's not already\n",
    "df['Datetime'] = pd.to_datetime(df['Datetime'])\n",
    "\n",
    "# Filter out rows with Datetime values from 2002 to 2008\n",
    "df_filtered = df[df['Datetime'].dt.year > 2008]\n",
    "\n",
    "# Reset index if needed\n",
    "df_filtered.reset_index(drop=True, inplace=True)\n",
    "\n",
    "# Display the resulting DataFrame\n",
    "print(df_filtered)\n"
   ]
  },
  {
   "cell_type": "code",
   "execution_count": 27,
   "id": "c33cd0f6",
   "metadata": {},
   "outputs": [],
   "source": [
    "df=df_filtered"
   ]
  },
  {
   "cell_type": "code",
   "execution_count": 28,
   "id": "5549388a",
   "metadata": {},
   "outputs": [
    {
     "name": "stdout",
     "output_type": "stream",
     "text": [
      "Datetime    datetime64[ns]\n",
      "PJME_MW            float64\n",
      "dtype: object\n"
     ]
    }
   ],
   "source": [
    "print(df.dtypes)"
   ]
  },
  {
   "cell_type": "code",
   "execution_count": 29,
   "id": "c01e9ded",
   "metadata": {},
   "outputs": [
    {
     "name": "stderr",
     "output_type": "stream",
     "text": [
      "C:\\Users\\ahmad\\AppData\\Local\\Temp\\ipykernel_5948\\1441513061.py:4: SettingWithCopyWarning: \n",
      "A value is trying to be set on a copy of a slice from a DataFrame\n",
      "\n",
      "See the caveats in the documentation: https://pandas.pydata.org/pandas-docs/stable/user_guide/indexing.html#returning-a-view-versus-a-copy\n",
      "  df.sort_index(inplace=True)\n"
     ]
    }
   ],
   "source": [
    "# # Prepare the Data\n",
    "# df['DateTime'] = pd.to_datetime(df['Date'] + ' ' + df['Time'])\n",
    "df.set_index('Datetime', inplace=True)\n",
    "df.sort_index(inplace=True)"
   ]
  },
  {
   "cell_type": "code",
   "execution_count": 30,
   "id": "5c14b5c4",
   "metadata": {},
   "outputs": [],
   "source": [
    "# Convert the index to datetime if it's not already\n",
    "df.index = pd.to_datetime(df.index)\n",
    "\n",
    "# Remove duplicate index values\n",
    "df = df[~df.index.duplicated(keep='first')]\n",
    "\n",
    "# Re-create the index with hourly frequency\n",
    "df = df.reindex(pd.date_range(start=df.index.min(), end=df.index.max(), freq='H'))\n"
   ]
  },
  {
   "cell_type": "code",
   "execution_count": 31,
   "id": "02e8a2f2",
   "metadata": {},
   "outputs": [
    {
     "data": {
      "text/html": [
       "<div>\n",
       "<style scoped>\n",
       "    .dataframe tbody tr th:only-of-type {\n",
       "        vertical-align: middle;\n",
       "    }\n",
       "\n",
       "    .dataframe tbody tr th {\n",
       "        vertical-align: top;\n",
       "    }\n",
       "\n",
       "    .dataframe thead th {\n",
       "        text-align: right;\n",
       "    }\n",
       "</style>\n",
       "<table border=\"1\" class=\"dataframe\">\n",
       "  <thead>\n",
       "    <tr style=\"text-align: right;\">\n",
       "      <th></th>\n",
       "      <th>PJME_MW</th>\n",
       "    </tr>\n",
       "  </thead>\n",
       "  <tbody>\n",
       "    <tr>\n",
       "      <th>2009-01-01 00:00:00</th>\n",
       "      <td>0.477534</td>\n",
       "    </tr>\n",
       "    <tr>\n",
       "      <th>2009-01-01 01:00:00</th>\n",
       "      <td>0.284465</td>\n",
       "    </tr>\n",
       "    <tr>\n",
       "      <th>2009-01-01 02:00:00</th>\n",
       "      <td>0.121872</td>\n",
       "    </tr>\n",
       "    <tr>\n",
       "      <th>2009-01-01 03:00:00</th>\n",
       "      <td>0.001667</td>\n",
       "    </tr>\n",
       "    <tr>\n",
       "      <th>2009-01-01 04:00:00</th>\n",
       "      <td>-0.069342</td>\n",
       "    </tr>\n",
       "    <tr>\n",
       "      <th>...</th>\n",
       "      <td>...</td>\n",
       "    </tr>\n",
       "    <tr>\n",
       "      <th>2018-08-02 20:00:00</th>\n",
       "      <td>1.852846</td>\n",
       "    </tr>\n",
       "    <tr>\n",
       "      <th>2018-08-02 21:00:00</th>\n",
       "      <td>1.728929</td>\n",
       "    </tr>\n",
       "    <tr>\n",
       "      <th>2018-08-02 22:00:00</th>\n",
       "      <td>1.465314</td>\n",
       "    </tr>\n",
       "    <tr>\n",
       "      <th>2018-08-02 23:00:00</th>\n",
       "      <td>0.993160</td>\n",
       "    </tr>\n",
       "    <tr>\n",
       "      <th>2018-08-03 00:00:00</th>\n",
       "      <td>0.526885</td>\n",
       "    </tr>\n",
       "  </tbody>\n",
       "</table>\n",
       "<p>84025 rows × 1 columns</p>\n",
       "</div>"
      ],
      "text/plain": [
       "                      PJME_MW\n",
       "2009-01-01 00:00:00  0.477534\n",
       "2009-01-01 01:00:00  0.284465\n",
       "2009-01-01 02:00:00  0.121872\n",
       "2009-01-01 03:00:00  0.001667\n",
       "2009-01-01 04:00:00 -0.069342\n",
       "...                       ...\n",
       "2018-08-02 20:00:00  1.852846\n",
       "2018-08-02 21:00:00  1.728929\n",
       "2018-08-02 22:00:00  1.465314\n",
       "2018-08-02 23:00:00  0.993160\n",
       "2018-08-03 00:00:00  0.526885\n",
       "\n",
       "[84025 rows x 1 columns]"
      ]
     },
     "execution_count": 31,
     "metadata": {},
     "output_type": "execute_result"
    }
   ],
   "source": [
    "df"
   ]
  },
  {
   "cell_type": "code",
   "execution_count": 32,
   "id": "263c75e1",
   "metadata": {},
   "outputs": [],
   "source": [
    "import numpy as np\n",
    "import pandas as pd\n",
    "import matplotlib.pyplot as plt\n",
    "from statsmodels.tsa.statespace.sarimax import SARIMAX\n",
    "from statsmodels.tsa.stattools import adfuller\n",
    "from statsmodels.graphics.tsaplots import plot_acf, plot_pacf\n",
    "from sklearn.metrics import mean_squared_error\n"
   ]
  },
  {
   "cell_type": "code",
   "execution_count": 33,
   "id": "a3e1de17",
   "metadata": {},
   "outputs": [],
   "source": [
    "# Drop rows with missing or infinite values\n",
    "df = df.dropna()  # Drop rows with missing values\n",
    "df = df.replace([np.inf, -np.inf], np.nan).dropna()  # Drop rows with infinite values\n",
    "\n"
   ]
  },
  {
   "cell_type": "code",
   "execution_count": 34,
   "id": "02338a2b",
   "metadata": {},
   "outputs": [
    {
     "name": "stdout",
     "output_type": "stream",
     "text": [
      "ADF Statistic: -13.442811777883424\n",
      "p-value: 3.815738355598632e-25\n"
     ]
    },
    {
     "name": "stderr",
     "output_type": "stream",
     "text": [
      "C:\\Users\\ahmad\\anaconda3\\lib\\site-packages\\statsmodels\\graphics\\tsaplots.py:348: FutureWarning: The default method 'yw' can produce PACF values outside of the [-1,1] interval. After 0.13, the default will change tounadjusted Yule-Walker ('ywm'). You can use this method now by setting method='ywm'.\n",
      "  warnings.warn(\n"
     ]
    },
    {
     "data": {
      "image/png": "[encoded data removed]",
      "text/plain": [
       "<Figure size 720x576 with 2 Axes>"
      ]
     },
     "metadata": {
      "needs_background": "light"
     },
     "output_type": "display_data"
    }
   ],
   "source": [
    "# Determine Stationarity\n",
    "result = adfuller(df['PJME_MW'])\n",
    "print('ADF Statistic:', result[0])\n",
    "print('p-value:', result[1])\n",
    "\n",
    "# Plot ACF and PACF\n",
    "fig, ax = plt.subplots(2, 1, figsize=(10, 8))\n",
    "plot_acf(df['PJME_MW'], ax=ax[0], lags=50)\n",
    "plot_pacf(df['PJME_MW'], ax=ax[1], lags=50)\n",
    "plt.show()"
   ]
  },
  {
   "cell_type": "code",
   "execution_count": 35,
   "id": "1d4d1f7e",
   "metadata": {},
   "outputs": [
    {
     "name": "stdout",
     "output_type": "stream",
     "text": [
      "Mean Squared Error (MSE): 1.7878805980596073\n",
      "Root Mean Squared Error (RMSE): 1.3371165237403984\n",
      "Mean Absolute Error (MAE): 1.1674509723616715\n"
     ]
    }
   ],
   "source": [
    "import pandas as pd\n",
    "import numpy as np\n",
    "from sklearn.metrics import mean_squared_error, mean_absolute_error\n",
    "\n",
    "\n",
    "# Function to fit a moving average model on the data\n",
    "def fit_ma_model(data, window):\n",
    "    return data.rolling(window=window).mean()\n",
    "\n",
    "# Function to forecast future values using the fitted moving average model\n",
    "def forecast_ma_model(model, steps):\n",
    "    last_value = model.iloc[-1, 0]  # Extract the last value from the DataFrame\n",
    "    forecast = np.full(steps, last_value)\n",
    "    return forecast\n",
    "\n",
    "# Calculate evaluation metrics (e.g., MSE, RMSE) using the actual test data and forecasted values\n",
    "def calculate_metrics(test_data, forecasted_values):\n",
    "    # Remove NaN values from both arrays\n",
    "    test_data = test_data.dropna()\n",
    "    forecasted_values = forecasted_values[:len(test_data)]\n",
    "    \n",
    "    # Calculate evaluation metrics\n",
    "    mse = mean_squared_error(test_data, forecasted_values)\n",
    "    rmse = np.sqrt(mse)\n",
    "    mae = mean_absolute_error(test_data, forecasted_values)\n",
    "    \n",
    "    return mse, rmse, mae\n",
    "\n",
    "# Split the Data into training and test sets\n",
    "train_size = int(len(df) * 0.8)  # 80% for training\n",
    "train_data, test_data = df[:train_size], df[train_size:]\n",
    "\n",
    "# Choose the window size for the moving average model\n",
    "window = 24  # Adjust as needed\n",
    "\n",
    "# Fit the moving average model on the training data\n",
    "ma_model = fit_ma_model(train_data, window)\n",
    "\n",
    "# Forecast future values using the moving average model\n",
    "forecasted_values = forecast_ma_model(ma_model, len(test_data))\n",
    "\n",
    "# Calculate evaluation metrics\n",
    "mse, rmse, mae = calculate_metrics(test_data['PJME_MW'], forecasted_values)\n",
    "\n",
    "print('Mean Squared Error (MSE):', mse)\n",
    "print('Root Mean Squared Error (RMSE):', rmse)\n",
    "print('Mean Absolute Error (MAE):', mae)"
   ]
  },
  {
   "cell_type": "code",
   "execution_count": 36,
   "id": "65e19d6e",
   "metadata": {},
   "outputs": [
    {
     "data": {
      "image/png": "[encoded data removed]",
      "text/plain": [
       "<Figure size 432x288 with 1 Axes>"
      ]
     },
     "metadata": {
      "needs_background": "light"
     },
     "output_type": "display_data"
    }
   ],
   "source": [
    "import matplotlib.pyplot as plt\n",
    "\n",
    "# Plot actual values\n",
    "plt.plot(test_data.index, test_data['PJME_MW'], label='Actual')\n",
    "\n",
    "# Plot forecasted values\n",
    "plt.plot(test_data.index, forecasted_values, label='Forecasted')\n",
    "\n",
    "# Add labels and title\n",
    "plt.xlabel('Date')\n",
    "plt.ylabel('PJME_MW')\n",
    "plt.title('Actual vs Forecasted Values')\n",
    "plt.legend()\n",
    "\n",
    "# Show plot\n",
    "plt.show()\n"
   ]
  },
  {
   "cell_type": "code",
   "execution_count": 37,
   "id": "a9297d14",
   "metadata": {},
   "outputs": [
    {
     "name": "stdout",
     "output_type": "stream",
     "text": [
      "Model saved successfully at: D:/Study Material/semester 6/Data Mining Lab/Project/sarima_model.pkl\n"
     ]
    }
   ],
   "source": [
    "import pickle\n",
    "\n",
    "# Define the filename for saving the model\n",
    "model_filename = 'D:/Study Material/semester 6/Data Mining Lab/Project/sarima_model.pkl'\n",
    "\n",
    "# Save the SARIMA model to a pickle file\n",
    "with open(model_filename, 'wb') as f:\n",
    "    pickle.dump(ma_model, f)\n",
    "\n",
    "print(\"Model saved successfully at:\", model_filename)\n"
   ]
  },
  {
   "cell_type": "code",
   "execution_count": null,
   "id": "4284946a",
   "metadata": {},
   "outputs": [],
   "source": []
  },
  {
   "cell_type": "markdown",
   "id": "5d1d8a36",
   "metadata": {},
   "source": [
    "# Exponential Smoothing (ETS):\n"
   ]
  },
  {
   "cell_type": "code",
   "execution_count": 45,
   "id": "c312dda4",
   "metadata": {},
   "outputs": [],
   "source": [
    "import pandas as pd\n",
    "import numpy as np\n",
    "from statsmodels.tsa.holtwinters import ExponentialSmoothing\n",
    "from sklearn.metrics import mean_squared_error\n",
    "from sklearn.metrics import mean_absolute_error, mean_squared_error"
   ]
  },
  {
   "cell_type": "code",
   "execution_count": 46,
   "id": "c0d050ae",
   "metadata": {},
   "outputs": [
    {
     "data": {
      "text/html": [
       "<div>\n",
       "<style scoped>\n",
       "    .dataframe tbody tr th:only-of-type {\n",
       "        vertical-align: middle;\n",
       "    }\n",
       "\n",
       "    .dataframe tbody tr th {\n",
       "        vertical-align: top;\n",
       "    }\n",
       "\n",
       "    .dataframe thead th {\n",
       "        text-align: right;\n",
       "    }\n",
       "</style>\n",
       "<table border=\"1\" class=\"dataframe\">\n",
       "  <thead>\n",
       "    <tr style=\"text-align: right;\">\n",
       "      <th></th>\n",
       "      <th>Datetime</th>\n",
       "      <th>PJME_MW</th>\n",
       "    </tr>\n",
       "  </thead>\n",
       "  <tbody>\n",
       "    <tr>\n",
       "      <th>0</th>\n",
       "      <td>2002-12-31 01:00:00</td>\n",
       "      <td>-0.863588</td>\n",
       "    </tr>\n",
       "    <tr>\n",
       "      <th>1</th>\n",
       "      <td>2002-12-31 02:00:00</td>\n",
       "      <td>-1.072592</td>\n",
       "    </tr>\n",
       "    <tr>\n",
       "      <th>2</th>\n",
       "      <td>2002-12-31 03:00:00</td>\n",
       "      <td>-1.161237</td>\n",
       "    </tr>\n",
       "    <tr>\n",
       "      <th>3</th>\n",
       "      <td>2002-12-31 04:00:00</td>\n",
       "      <td>-1.189238</td>\n",
       "    </tr>\n",
       "    <tr>\n",
       "      <th>4</th>\n",
       "      <td>2002-12-31 05:00:00</td>\n",
       "      <td>-1.116992</td>\n",
       "    </tr>\n",
       "    <tr>\n",
       "      <th>...</th>\n",
       "      <td>...</td>\n",
       "      <td>...</td>\n",
       "    </tr>\n",
       "    <tr>\n",
       "      <th>145361</th>\n",
       "      <td>2018-01-01 20:00:00</td>\n",
       "      <td>1.887964</td>\n",
       "    </tr>\n",
       "    <tr>\n",
       "      <th>145362</th>\n",
       "      <td>2018-01-01 21:00:00</td>\n",
       "      <td>1.805507</td>\n",
       "    </tr>\n",
       "    <tr>\n",
       "      <th>145363</th>\n",
       "      <td>2018-01-01 22:00:00</td>\n",
       "      <td>1.596812</td>\n",
       "    </tr>\n",
       "    <tr>\n",
       "      <th>145364</th>\n",
       "      <td>2018-01-01 23:00:00</td>\n",
       "      <td>1.250586</td>\n",
       "    </tr>\n",
       "    <tr>\n",
       "      <th>145365</th>\n",
       "      <td>2018-01-02 00:00:00</td>\n",
       "      <td>1.009868</td>\n",
       "    </tr>\n",
       "  </tbody>\n",
       "</table>\n",
       "<p>145366 rows × 2 columns</p>\n",
       "</div>"
      ],
      "text/plain": [
       "                   Datetime   PJME_MW\n",
       "0       2002-12-31 01:00:00 -0.863588\n",
       "1       2002-12-31 02:00:00 -1.072592\n",
       "2       2002-12-31 03:00:00 -1.161237\n",
       "3       2002-12-31 04:00:00 -1.189238\n",
       "4       2002-12-31 05:00:00 -1.116992\n",
       "...                     ...       ...\n",
       "145361  2018-01-01 20:00:00  1.887964\n",
       "145362  2018-01-01 21:00:00  1.805507\n",
       "145363  2018-01-01 22:00:00  1.596812\n",
       "145364  2018-01-01 23:00:00  1.250586\n",
       "145365  2018-01-02 00:00:00  1.009868\n",
       "\n",
       "[145366 rows x 2 columns]"
      ]
     },
     "execution_count": 46,
     "metadata": {},
     "output_type": "execute_result"
    }
   ],
   "source": [
    "df"
   ]
  },
  {
   "cell_type": "code",
   "execution_count": 47,
   "id": "879bead8",
   "metadata": {},
   "outputs": [],
   "source": [
    "# Assuming your DataFrame is named df\n",
    "# Convert 'Datetime' column to datetime type if it's not already\n",
    "df['Datetime'] = pd.to_datetime(df['Datetime'])\n"
   ]
  },
  {
   "cell_type": "code",
   "execution_count": 48,
   "id": "52cbd8c0",
   "metadata": {},
   "outputs": [],
   "source": [
    "train_size = int(len(df) * 0.8)\n",
    "train, test = df.iloc[:train_size], df.iloc[train_size:]\n"
   ]
  },
  {
   "cell_type": "code",
   "execution_count": 49,
   "id": "6c778e70",
   "metadata": {},
   "outputs": [],
   "source": [
    "# Define parameters for ETS model\n",
    "seasonal_periods = 24  # Assuming hourly data with daily seasonality\n",
    "trend = 'add'  # or 'mul' for multiplicative trend\n",
    "seasonal = 'add'  # or 'mul' for multiplicative seasonality\n",
    "\n",
    "# Fit ETS model\n",
    "model = ExponentialSmoothing(train['PJME_MW'], trend=trend, seasonal=seasonal, seasonal_periods=seasonal_periods)\n",
    "fitted_model = model.fit()\n"
   ]
  },
  {
   "cell_type": "code",
   "execution_count": 50,
   "id": "b268424c",
   "metadata": {},
   "outputs": [],
   "source": [
    "# Make predictions\n",
    "predictions = fitted_model.forecast(len(test))\n"
   ]
  },
  {
   "cell_type": "code",
   "execution_count": 51,
   "id": "009ffc07",
   "metadata": {},
   "outputs": [
    {
     "name": "stdout",
     "output_type": "stream",
     "text": [
      "Mean Absolute Error: 0.8777697699798604\n",
      "Root Mean Squared Error: 1.1704541290967574\n",
      "Mean Absolute Percentage Error: 526.449465856298\n",
      "Symmetric Mean Absolute Percentage Error: 116.78364909492599\n"
     ]
    }
   ],
   "source": [
    "# Mean Absolute Error (MAE)\n",
    "mae = mean_absolute_error(test['PJME_MW'], predictions)\n",
    "print(\"Mean Absolute Error:\", mae)\n",
    "\n",
    "# Root Mean Squared Error (RMSE)\n",
    "rmse = np.sqrt(mean_squared_error(test['PJME_MW'], predictions))\n",
    "print(\"Root Mean Squared Error:\", rmse)\n",
    "\n",
    "# Mean Absolute Percentage Error (MAPE)\n",
    "mape = np.mean(np.abs((test['PJME_MW'] - predictions) / test['PJME_MW'])) * 100\n",
    "print(\"Mean Absolute Percentage Error:\", mape)\n",
    "\n",
    "# Symmetric Mean Absolute Percentage Error (SMAPE)\n",
    "smape = 100/len(test) * np.sum(2 * np.abs(predictions - test['PJME_MW']) / (np.abs(test['PJME_MW']) + np.abs(predictions)))\n",
    "print(\"Symmetric Mean Absolute Percentage Error:\", smape)"
   ]
  },
  {
   "cell_type": "code",
   "execution_count": 53,
   "id": "bf044b97",
   "metadata": {},
   "outputs": [
    {
     "data": {
      "image/png": "[encoded data removed]",
      "text/plain": [
       "<Figure size 864x432 with 1 Axes>"
      ]
     },
     "metadata": {
      "needs_background": "light"
     },
     "output_type": "display_data"
    }
   ],
   "source": [
    "# Visualize predictions against actual values\n",
    "import matplotlib.pyplot as plt\n",
    "\n",
    "plt.figure(figsize=(12, 6))\n",
    "plt.plot(train.index, train, label='Train')\n",
    "plt.plot(test.index, test, label='Test')\n",
    "plt.plot(test.index, predictions, label='Predictions')\n",
    "plt.legend()\n",
    "plt.title('Exponential Smoothing (ETS) Forecast')\n",
    "plt.show()"
   ]
  },
  {
   "cell_type": "code",
   "execution_count": 54,
   "id": "2ed5fb70",
   "metadata": {},
   "outputs": [
    {
     "name": "stdout",
     "output_type": "stream",
     "text": [
      "Model saved successfully at: D:/Study Material/semester 6/Data Mining Lab/Project/ets_model.pkl\n"
     ]
    }
   ],
   "source": [
    "import pickle\n",
    "\n",
    "# Define the filename for saving the model\n",
    "model_filename = 'D:/Study Material/semester 6/Data Mining Lab/Project/ets_model.pkl'\n",
    "\n",
    "# Save the ETS model to a pickle file\n",
    "with open(model_filename, 'wb') as f:\n",
    "    pickle.dump(fitted_model, f)\n",
    "\n",
    "print(\"Model saved successfully at:\", model_filename)\n"
   ]
  },
  {
   "cell_type": "code",
   "execution_count": null,
   "id": "0ecbb105",
   "metadata": {},
   "outputs": [],
   "source": []
  },
  {
   "cell_type": "markdown",
   "id": "38caa4ff",
   "metadata": {},
   "source": [
    "# Prophet"
   ]
  },
  {
   "cell_type": "code",
   "execution_count": 55,
   "id": "9b73df3d",
   "metadata": {},
   "outputs": [
    {
     "data": {
      "text/html": [
       "<div>\n",
       "<style scoped>\n",
       "    .dataframe tbody tr th:only-of-type {\n",
       "        vertical-align: middle;\n",
       "    }\n",
       "\n",
       "    .dataframe tbody tr th {\n",
       "        vertical-align: top;\n",
       "    }\n",
       "\n",
       "    .dataframe thead th {\n",
       "        text-align: right;\n",
       "    }\n",
       "</style>\n",
       "<table border=\"1\" class=\"dataframe\">\n",
       "  <thead>\n",
       "    <tr style=\"text-align: right;\">\n",
       "      <th></th>\n",
       "      <th>Datetime</th>\n",
       "      <th>PJME_MW</th>\n",
       "    </tr>\n",
       "  </thead>\n",
       "  <tbody>\n",
       "    <tr>\n",
       "      <th>0</th>\n",
       "      <td>2002-12-31 01:00:00</td>\n",
       "      <td>-0.863588</td>\n",
       "    </tr>\n",
       "    <tr>\n",
       "      <th>1</th>\n",
       "      <td>2002-12-31 02:00:00</td>\n",
       "      <td>-1.072592</td>\n",
       "    </tr>\n",
       "    <tr>\n",
       "      <th>2</th>\n",
       "      <td>2002-12-31 03:00:00</td>\n",
       "      <td>-1.161237</td>\n",
       "    </tr>\n",
       "    <tr>\n",
       "      <th>3</th>\n",
       "      <td>2002-12-31 04:00:00</td>\n",
       "      <td>-1.189238</td>\n",
       "    </tr>\n",
       "    <tr>\n",
       "      <th>4</th>\n",
       "      <td>2002-12-31 05:00:00</td>\n",
       "      <td>-1.116992</td>\n",
       "    </tr>\n",
       "    <tr>\n",
       "      <th>...</th>\n",
       "      <td>...</td>\n",
       "      <td>...</td>\n",
       "    </tr>\n",
       "    <tr>\n",
       "      <th>145361</th>\n",
       "      <td>2018-01-01 20:00:00</td>\n",
       "      <td>1.887964</td>\n",
       "    </tr>\n",
       "    <tr>\n",
       "      <th>145362</th>\n",
       "      <td>2018-01-01 21:00:00</td>\n",
       "      <td>1.805507</td>\n",
       "    </tr>\n",
       "    <tr>\n",
       "      <th>145363</th>\n",
       "      <td>2018-01-01 22:00:00</td>\n",
       "      <td>1.596812</td>\n",
       "    </tr>\n",
       "    <tr>\n",
       "      <th>145364</th>\n",
       "      <td>2018-01-01 23:00:00</td>\n",
       "      <td>1.250586</td>\n",
       "    </tr>\n",
       "    <tr>\n",
       "      <th>145365</th>\n",
       "      <td>2018-01-02 00:00:00</td>\n",
       "      <td>1.009868</td>\n",
       "    </tr>\n",
       "  </tbody>\n",
       "</table>\n",
       "<p>145366 rows × 2 columns</p>\n",
       "</div>"
      ],
      "text/plain": [
       "                  Datetime   PJME_MW\n",
       "0      2002-12-31 01:00:00 -0.863588\n",
       "1      2002-12-31 02:00:00 -1.072592\n",
       "2      2002-12-31 03:00:00 -1.161237\n",
       "3      2002-12-31 04:00:00 -1.189238\n",
       "4      2002-12-31 05:00:00 -1.116992\n",
       "...                    ...       ...\n",
       "145361 2018-01-01 20:00:00  1.887964\n",
       "145362 2018-01-01 21:00:00  1.805507\n",
       "145363 2018-01-01 22:00:00  1.596812\n",
       "145364 2018-01-01 23:00:00  1.250586\n",
       "145365 2018-01-02 00:00:00  1.009868\n",
       "\n",
       "[145366 rows x 2 columns]"
      ]
     },
     "execution_count": 55,
     "metadata": {},
     "output_type": "execute_result"
    }
   ],
   "source": [
    "df"
   ]
  },
  {
   "cell_type": "code",
   "execution_count": 56,
   "id": "a091e3b3",
   "metadata": {},
   "outputs": [],
   "source": [
    "from prophet import Prophet\n"
   ]
  },
  {
   "cell_type": "code",
   "execution_count": 57,
   "id": "ec9060c9",
   "metadata": {},
   "outputs": [],
   "source": [
    "# Assuming your DataFrame is named df\n",
    "# Convert 'Datetime' column to datetime type if it's not already\n",
    "df['Datetime'] = pd.to_datetime(df['Datetime'])\n"
   ]
  },
  {
   "cell_type": "code",
   "execution_count": 58,
   "id": "0e26a2b6",
   "metadata": {},
   "outputs": [
    {
     "name": "stderr",
     "output_type": "stream",
     "text": [
      "DEBUG:cmdstanpy:cmd: where.exe tbb.dll\n",
      "cwd: None\n",
      "DEBUG:cmdstanpy:Adding TBB (C:\\Users\\ahmad\\anaconda3\\lib\\site-packages\\prophet\\stan_model\\cmdstan-2.33.1\\stan\\lib\\stan_math\\lib\\tbb) to PATH\n"
     ]
    }
   ],
   "source": [
    "# Rename columns as required by Prophet\n",
    "df_prophet = df.rename(columns={'Datetime': 'ds', 'PJME_MW': 'y'})\n",
    "\n",
    "# Create a Prophet model instance\n",
    "model = Prophet()\n"
   ]
  },
  {
   "cell_type": "code",
   "execution_count": 59,
   "id": "2e2fb59d",
   "metadata": {},
   "outputs": [
    {
     "name": "stderr",
     "output_type": "stream",
     "text": [
      "DEBUG:cmdstanpy:input tempfile: C:\\Users\\ahmad\\AppData\\Local\\Temp\\tmpb0cnfbx7\\wns8ofa6.json\n",
      "DEBUG:cmdstanpy:input tempfile: C:\\Users\\ahmad\\AppData\\Local\\Temp\\tmpb0cnfbx7\\5rsvj1ha.json\n",
      "DEBUG:cmdstanpy:idx 0\n",
      "DEBUG:cmdstanpy:running CmdStan, num_threads: None\n",
      "DEBUG:cmdstanpy:CmdStan args: ['C:\\\\Users\\\\ahmad\\\\anaconda3\\\\Lib\\\\site-packages\\\\prophet\\\\stan_model\\\\prophet_model.bin', 'random', 'seed=41779', 'data', 'file=C:\\\\Users\\\\ahmad\\\\AppData\\\\Local\\\\Temp\\\\tmpb0cnfbx7\\\\wns8ofa6.json', 'init=C:\\\\Users\\\\ahmad\\\\AppData\\\\Local\\\\Temp\\\\tmpb0cnfbx7\\\\5rsvj1ha.json', 'output', 'file=C:\\\\Users\\\\ahmad\\\\AppData\\\\Local\\\\Temp\\\\tmpb0cnfbx7\\\\prophet_model8r5fgk1s\\\\prophet_model-20240514134855.csv', 'method=optimize', 'algorithm=lbfgs', 'iter=10000']\n",
      "13:48:55 - cmdstanpy - INFO - Chain [1] start processing\n",
      "INFO:cmdstanpy:Chain [1] start processing\n",
      "13:51:08 - cmdstanpy - INFO - Chain [1] done processing\n",
      "INFO:cmdstanpy:Chain [1] done processing\n"
     ]
    },
    {
     "data": {
      "text/plain": [
       "<prophet.forecaster.Prophet at 0x250a70eec40>"
      ]
     },
     "execution_count": 59,
     "metadata": {},
     "output_type": "execute_result"
    }
   ],
   "source": [
    "# Fit the model to your data\n",
    "model.fit(df_prophet)\n"
   ]
  },
  {
   "cell_type": "code",
   "execution_count": 60,
   "id": "46196e5e",
   "metadata": {},
   "outputs": [],
   "source": [
    "# Make future predictions\n",
    "future = model.make_future_dataframe(periods=365)  # Forecasting for the next 365 days\n",
    "forecast = model.predict(future)\n"
   ]
  },
  {
   "cell_type": "code",
   "execution_count": 61,
   "id": "74e177e1",
   "metadata": {},
   "outputs": [
    {
     "data": {
      "image/png": "[encoded data removed]",
      "text/plain": [
       "<Figure size 720x432 with 1 Axes>"
      ]
     },
     "metadata": {},
     "output_type": "display_data"
    }
   ],
   "source": [
    "# Plot the forecast\n",
    "fig = model.plot(forecast)\n"
   ]
  },
  {
   "cell_type": "code",
   "execution_count": 62,
   "id": "1e741145",
   "metadata": {},
   "outputs": [
    {
     "name": "stdout",
     "output_type": "stream",
     "text": [
      "Mean Absolute Error (MAE): 0.789168525678792\n",
      "Mean Squared Error (MSE): 0.9964099263780638\n",
      "Root Mean Squared Error (RMSE): 0.9982033492120049\n",
      "Mean Absolute Percentage Error (MAPE): 7.935940466268221\n"
     ]
    }
   ],
   "source": [
    "from sklearn.metrics import mean_absolute_error, mean_squared_error\n",
    "import numpy as np\n",
    "\n",
    "# Truncate forecast to match the length of the original dataset\n",
    "forecast_truncated = forecast.iloc[:len(df_prophet)]\n",
    "\n",
    "# Actual values\n",
    "y_true = df_prophet['y']\n",
    "\n",
    "# Forecasted values\n",
    "y_pred = forecast_truncated['yhat']\n",
    "\n",
    "# Calculate MAE\n",
    "mae = mean_absolute_error(y_true, y_pred)\n",
    "\n",
    "# Calculate MSE\n",
    "mse = mean_squared_error(y_true, y_pred)\n",
    "\n",
    "# Calculate RMSE\n",
    "rmse = np.sqrt(mse)\n",
    "\n",
    "# Calculate MAPE\n",
    "mape = np.mean(np.abs((y_true - y_pred) / y_true)) \n",
    "\n",
    "print(\"Mean Absolute Error (MAE):\", mae)\n",
    "print(\"Mean Squared Error (MSE):\", mse)\n",
    "print(\"Root Mean Squared Error (RMSE):\", rmse)\n",
    "print(\"Mean Absolute Percentage Error (MAPE):\", mape)\n"
   ]
  },
  {
   "cell_type": "code",
   "execution_count": 63,
   "id": "1f40dc26",
   "metadata": {},
   "outputs": [
    {
     "name": "stdout",
     "output_type": "stream",
     "text": [
      "Prophet model saved successfully at: D:/Study Material/semester 6/Data Mining Lab/Project/prophet_model.pkl\n"
     ]
    }
   ],
   "source": [
    "import pickle\n",
    "\n",
    "# Define the filename for saving the pickle file\n",
    "pickle_filename = 'D:/Study Material/semester 6/Data Mining Lab/Project/prophet_model.pkl'\n",
    "\n",
    "# Save the Prophet model to a pickle file\n",
    "with open(pickle_filename, 'wb') as f:\n",
    "    pickle.dump(model, f)\n",
    "\n",
    "print(\"Prophet model saved successfully at:\", pickle_filename)\n"
   ]
  },
  {
   "cell_type": "markdown",
   "id": "2fe2424e",
   "metadata": {},
   "source": [
    "# Support Vector Regression (SVR):\n"
   ]
  },
  {
   "cell_type": "code",
   "execution_count": 81,
   "id": "768df6f0",
   "metadata": {},
   "outputs": [
    {
     "data": {
      "text/html": [
       "<div>\n",
       "<style scoped>\n",
       "    .dataframe tbody tr th:only-of-type {\n",
       "        vertical-align: middle;\n",
       "    }\n",
       "\n",
       "    .dataframe tbody tr th {\n",
       "        vertical-align: top;\n",
       "    }\n",
       "\n",
       "    .dataframe thead th {\n",
       "        text-align: right;\n",
       "    }\n",
       "</style>\n",
       "<table border=\"1\" class=\"dataframe\">\n",
       "  <thead>\n",
       "    <tr style=\"text-align: right;\">\n",
       "      <th></th>\n",
       "      <th>Datetime</th>\n",
       "      <th>PJME_MW</th>\n",
       "    </tr>\n",
       "  </thead>\n",
       "  <tbody>\n",
       "    <tr>\n",
       "      <th>0</th>\n",
       "      <td>2002-12-31 01:00:00</td>\n",
       "      <td>-0.863588</td>\n",
       "    </tr>\n",
       "    <tr>\n",
       "      <th>1</th>\n",
       "      <td>2002-12-31 02:00:00</td>\n",
       "      <td>-1.072592</td>\n",
       "    </tr>\n",
       "    <tr>\n",
       "      <th>2</th>\n",
       "      <td>2002-12-31 03:00:00</td>\n",
       "      <td>-1.161237</td>\n",
       "    </tr>\n",
       "    <tr>\n",
       "      <th>3</th>\n",
       "      <td>2002-12-31 04:00:00</td>\n",
       "      <td>-1.189238</td>\n",
       "    </tr>\n",
       "    <tr>\n",
       "      <th>4</th>\n",
       "      <td>2002-12-31 05:00:00</td>\n",
       "      <td>-1.116992</td>\n",
       "    </tr>\n",
       "    <tr>\n",
       "      <th>...</th>\n",
       "      <td>...</td>\n",
       "      <td>...</td>\n",
       "    </tr>\n",
       "    <tr>\n",
       "      <th>145361</th>\n",
       "      <td>2018-01-01 20:00:00</td>\n",
       "      <td>1.887964</td>\n",
       "    </tr>\n",
       "    <tr>\n",
       "      <th>145362</th>\n",
       "      <td>2018-01-01 21:00:00</td>\n",
       "      <td>1.805507</td>\n",
       "    </tr>\n",
       "    <tr>\n",
       "      <th>145363</th>\n",
       "      <td>2018-01-01 22:00:00</td>\n",
       "      <td>1.596812</td>\n",
       "    </tr>\n",
       "    <tr>\n",
       "      <th>145364</th>\n",
       "      <td>2018-01-01 23:00:00</td>\n",
       "      <td>1.250586</td>\n",
       "    </tr>\n",
       "    <tr>\n",
       "      <th>145365</th>\n",
       "      <td>2018-01-02 00:00:00</td>\n",
       "      <td>1.009868</td>\n",
       "    </tr>\n",
       "  </tbody>\n",
       "</table>\n",
       "<p>145366 rows × 2 columns</p>\n",
       "</div>"
      ],
      "text/plain": [
       "                   Datetime   PJME_MW\n",
       "0       2002-12-31 01:00:00 -0.863588\n",
       "1       2002-12-31 02:00:00 -1.072592\n",
       "2       2002-12-31 03:00:00 -1.161237\n",
       "3       2002-12-31 04:00:00 -1.189238\n",
       "4       2002-12-31 05:00:00 -1.116992\n",
       "...                     ...       ...\n",
       "145361  2018-01-01 20:00:00  1.887964\n",
       "145362  2018-01-01 21:00:00  1.805507\n",
       "145363  2018-01-01 22:00:00  1.596812\n",
       "145364  2018-01-01 23:00:00  1.250586\n",
       "145365  2018-01-02 00:00:00  1.009868\n",
       "\n",
       "[145366 rows x 2 columns]"
      ]
     },
     "execution_count": 81,
     "metadata": {},
     "output_type": "execute_result"
    }
   ],
   "source": [
    "df"
   ]
  },
  {
   "cell_type": "code",
   "execution_count": 82,
   "id": "d9f49d3b",
   "metadata": {},
   "outputs": [],
   "source": [
    "import numpy as np\n",
    "import pandas as pd\n",
    "import matplotlib.pyplot as plt\n",
    "from sklearn.model_selection import train_test_split, GridSearchCV\n",
    "from sklearn.svm import SVR\n",
    "from sklearn.metrics import mean_squared_error, mean_absolute_error, r2_score\n",
    "from sklearn.preprocessing import StandardScaler"
   ]
  },
  {
   "cell_type": "code",
   "execution_count": 83,
   "id": "980de3f1",
   "metadata": {},
   "outputs": [],
   "source": [
    "# Assuming your DataFrame is named df\n",
    "# Convert 'Datetime' column to datetime type if it's not already\n",
    "df['Datetime'] = pd.to_datetime(df['Datetime'])\n",
    "\n",
    "# Split data into features (datetime) and target (energy consumption)\n",
    "X = df['Datetime'].values.reshape(-1, 1)  # Features\n",
    "y = df['PJME_MW'].values  # Target\n",
    "\n",
    "# Split data into training and testing sets\n",
    "X_train, X_test, y_train, y_test = train_test_split(X, y, test_size=0.2, random_state=42)\n"
   ]
  },
  {
   "cell_type": "code",
   "execution_count": null,
   "id": "6d8b0839",
   "metadata": {},
   "outputs": [],
   "source": [
    "# Feature scaling\n",
    "scaler = StandardScaler()\n",
    "X_train_scaled = scaler.fit_transform(X_train)\n",
    "X_test_scaled = scaler.transform(X_test)\n",
    "\n",
    "# Train SVR model with grid search for hyperparameter tuning\n",
    "param_grid = {\n",
    "    'C': [0.1, 1, 10, 100],\n",
    "    'gamma': ['scale', 'auto', 0.1, 1],\n",
    "    'kernel': ['linear', 'poly', 'rbf', 'sigmoid']\n",
    "}\n",
    "\n",
    "svr_model = SVR()\n",
    "grid_search = GridSearchCV(svr_model, param_grid, cv=5, scoring='neg_mean_squared_error')\n",
    "grid_search.fit(X_train_scaled, y_train)\n",
    "\n",
    "# Best hyperparameters\n",
    "best_params = grid_search.best_params_\n",
    "\n",
    "# Train SVR model with best hyperparameters\n",
    "best_svr_model = SVR(**best_params)\n",
    "best_svr_model.fit(X_train_scaled, y_train)\n",
    "\n",
    "# Make predictions\n",
    "predictions = best_svr_model.predict(X_test_scaled)\n",
    "\n",
    "# Evaluate model\n",
    "mse = mean_squared_error(y_test, predictions)\n",
    "mae = mean_absolute_error(y_test, predictions)\n",
    "r2 = r2_score(y_test, predictions)\n",
    "\n",
    "print(\"Mean Squared Error:\", mse)\n",
    "print(\"Mean Absolute Error:\", mae)\n",
    "print(\"R-squared:\", r2)\n"
   ]
  },
  {
   "cell_type": "code",
   "execution_count": null,
   "id": "6ac8a808",
   "metadata": {
    "scrolled": true
   },
   "outputs": [],
   "source": [
    "# Visualization\n",
    "plt.figure(figsize=(12, 6))\n",
    "plt.scatter(X_test, y_test, color='blue', label='Actual')\n",
    "plt.plot(X_test, predictions, color='red', label='Predicted')\n",
    "plt.title('SVR Model')\n",
    "plt.xlabel('Datetime')\n",
    "plt.ylabel('Energy Consumption')\n",
    "plt.legend()\n",
    "plt.show()\n"
   ]
  },
  {
   "cell_type": "code",
   "execution_count": null,
   "id": "c443804f",
   "metadata": {},
   "outputs": [],
   "source": [
    "import pickle\n",
    "\n",
    "# Define the filename for saving the pickle file\n",
    "pickle_filename = 'D:/Study Material/semester 6/Data Mining Lab/Project/svr_model.pkl'\n",
    "\n",
    "# Save the SVR model to a pickle file\n",
    "with open(pickle_filename, 'wb') as f:\n",
    "    pickle.dump(best_svr_model, f)\n",
    "\n",
    "print(\"SVR model saved successfully at:\", pickle_filename)\n"
   ]
  },
  {
   "cell_type": "code",
   "execution_count": null,
   "id": "73d7e7c6",
   "metadata": {},
   "outputs": [],
   "source": []
  },
  {
   "cell_type": "markdown",
   "id": "802046c7",
   "metadata": {},
   "source": [
    "# Long Short-Term Memory (LSTM)"
   ]
  },
  {
   "cell_type": "code",
   "execution_count": 7,
   "id": "a9f182ec",
   "metadata": {},
   "outputs": [
    {
     "data": {
      "text/html": [
       "<div>\n",
       "<style scoped>\n",
       "    .dataframe tbody tr th:only-of-type {\n",
       "        vertical-align: middle;\n",
       "    }\n",
       "\n",
       "    .dataframe tbody tr th {\n",
       "        vertical-align: top;\n",
       "    }\n",
       "\n",
       "    .dataframe thead th {\n",
       "        text-align: right;\n",
       "    }\n",
       "</style>\n",
       "<table border=\"1\" class=\"dataframe\">\n",
       "  <thead>\n",
       "    <tr style=\"text-align: right;\">\n",
       "      <th></th>\n",
       "      <th>Datetime</th>\n",
       "      <th>PJME_MW</th>\n",
       "    </tr>\n",
       "  </thead>\n",
       "  <tbody>\n",
       "    <tr>\n",
       "      <th>0</th>\n",
       "      <td>2002-12-31 01:00:00</td>\n",
       "      <td>-0.863588</td>\n",
       "    </tr>\n",
       "    <tr>\n",
       "      <th>1</th>\n",
       "      <td>2002-12-31 02:00:00</td>\n",
       "      <td>-1.072592</td>\n",
       "    </tr>\n",
       "    <tr>\n",
       "      <th>2</th>\n",
       "      <td>2002-12-31 03:00:00</td>\n",
       "      <td>-1.161237</td>\n",
       "    </tr>\n",
       "    <tr>\n",
       "      <th>3</th>\n",
       "      <td>2002-12-31 04:00:00</td>\n",
       "      <td>-1.189238</td>\n",
       "    </tr>\n",
       "    <tr>\n",
       "      <th>4</th>\n",
       "      <td>2002-12-31 05:00:00</td>\n",
       "      <td>-1.116992</td>\n",
       "    </tr>\n",
       "    <tr>\n",
       "      <th>...</th>\n",
       "      <td>...</td>\n",
       "      <td>...</td>\n",
       "    </tr>\n",
       "    <tr>\n",
       "      <th>145361</th>\n",
       "      <td>2018-01-01 20:00:00</td>\n",
       "      <td>1.887964</td>\n",
       "    </tr>\n",
       "    <tr>\n",
       "      <th>145362</th>\n",
       "      <td>2018-01-01 21:00:00</td>\n",
       "      <td>1.805507</td>\n",
       "    </tr>\n",
       "    <tr>\n",
       "      <th>145363</th>\n",
       "      <td>2018-01-01 22:00:00</td>\n",
       "      <td>1.596812</td>\n",
       "    </tr>\n",
       "    <tr>\n",
       "      <th>145364</th>\n",
       "      <td>2018-01-01 23:00:00</td>\n",
       "      <td>1.250586</td>\n",
       "    </tr>\n",
       "    <tr>\n",
       "      <th>145365</th>\n",
       "      <td>2018-01-02 00:00:00</td>\n",
       "      <td>1.009868</td>\n",
       "    </tr>\n",
       "  </tbody>\n",
       "</table>\n",
       "<p>145366 rows × 2 columns</p>\n",
       "</div>"
      ],
      "text/plain": [
       "                   Datetime   PJME_MW\n",
       "0       2002-12-31 01:00:00 -0.863588\n",
       "1       2002-12-31 02:00:00 -1.072592\n",
       "2       2002-12-31 03:00:00 -1.161237\n",
       "3       2002-12-31 04:00:00 -1.189238\n",
       "4       2002-12-31 05:00:00 -1.116992\n",
       "...                     ...       ...\n",
       "145361  2018-01-01 20:00:00  1.887964\n",
       "145362  2018-01-01 21:00:00  1.805507\n",
       "145363  2018-01-01 22:00:00  1.596812\n",
       "145364  2018-01-01 23:00:00  1.250586\n",
       "145365  2018-01-02 00:00:00  1.009868\n",
       "\n",
       "[145366 rows x 2 columns]"
      ]
     },
     "execution_count": 7,
     "metadata": {},
     "output_type": "execute_result"
    }
   ],
   "source": [
    "df"
   ]
  },
  {
   "cell_type": "code",
   "execution_count": 8,
   "id": "9323a300",
   "metadata": {},
   "outputs": [],
   "source": [
    "import numpy as np\n",
    "import pandas as pd\n",
    "import matplotlib.pyplot as plt\n",
    "from sklearn.preprocessing import MinMaxScaler\n",
    "from tensorflow.keras.models import Sequential\n",
    "from tensorflow.keras.layers import LSTM, Dense\n",
    "from sklearn.metrics import mean_absolute_error, mean_squared_error\n"
   ]
  },
  {
   "cell_type": "code",
   "execution_count": 9,
   "id": "46c9de6d",
   "metadata": {},
   "outputs": [],
   "source": [
    "# Step 1: Prepare Data\n",
    "# Convert Datetime column to datetime type\n",
    "df['Datetime'] = pd.to_datetime(df['Datetime'])\n",
    "# Set Datetime column as index\n",
    "df.set_index('Datetime', inplace=True)"
   ]
  },
  {
   "cell_type": "code",
   "execution_count": 10,
   "id": "f2be413b",
   "metadata": {},
   "outputs": [],
   "source": [
    "# Step 2: Data Preprocessing\n",
    "scaler = MinMaxScaler()\n",
    "scaled_data = scaler.fit_transform(df)\n",
    "\n",
    "# Split data into train and test sets\n",
    "train_size = int(len(df) * 0.8)\n",
    "train_data = scaled_data[:train_size]\n",
    "test_data = scaled_data[train_size:]\n",
    "\n",
    "def create_dataset(data, time_steps=1):\n",
    "    X, y = [], []\n",
    "    for i in range(len(data) - time_steps):\n",
    "        X.append(data[i:(i + time_steps)])\n",
    "        y.append(data[i + time_steps])\n",
    "    return np.array(X), np.array(y)\n",
    "\n",
    "time_steps = 24  # You can adjust this based on your requirement\n",
    "X_train, y_train = create_dataset(train_data, time_steps)\n",
    "X_test, y_test = create_dataset(test_data, time_steps)"
   ]
  },
  {
   "cell_type": "code",
   "execution_count": 11,
   "id": "c011ab36",
   "metadata": {},
   "outputs": [],
   "source": [
    "# Step 3: Build LSTM Model\n",
    "model = Sequential([\n",
    "    LSTM(50, input_shape=(X_train.shape[1], X_train.shape[2])),\n",
    "    Dense(1)\n",
    "])\n",
    "\n",
    "model.compile(optimizer='adam', loss='mse')"
   ]
  },
  {
   "cell_type": "code",
   "execution_count": 12,
   "id": "9fdb013a",
   "metadata": {},
   "outputs": [
    {
     "name": "stdout",
     "output_type": "stream",
     "text": [
      "Epoch 1/50\n",
      "3634/3634 [==============================] - 41s 10ms/step - loss: 0.0017 - val_loss: 5.2463e-04\n",
      "Epoch 2/50\n",
      "3634/3634 [==============================] - 36s 10ms/step - loss: 3.9708e-04 - val_loss: 4.6705e-04\n",
      "Epoch 3/50\n",
      "3634/3634 [==============================] - 40s 11ms/step - loss: 3.4805e-04 - val_loss: 3.5603e-04\n",
      "Epoch 4/50\n",
      "3634/3634 [==============================] - 41s 11ms/step - loss: 2.8194e-04 - val_loss: 2.7875e-04\n",
      "Epoch 5/50\n",
      "3634/3634 [==============================] - 40s 11ms/step - loss: 2.5266e-04 - val_loss: 2.6982e-04\n",
      "Epoch 6/50\n",
      "3634/3634 [==============================] - 50s 14ms/step - loss: 2.3924e-04 - val_loss: 2.8063e-04\n",
      "Epoch 7/50\n",
      "3634/3634 [==============================] - 39s 11ms/step - loss: 2.2368e-04 - val_loss: 2.6637e-04\n",
      "Epoch 8/50\n",
      "3634/3634 [==============================] - 47s 13ms/step - loss: 2.1613e-04 - val_loss: 2.6573e-04\n",
      "Epoch 9/50\n",
      "3634/3634 [==============================] - 44s 12ms/step - loss: 2.0838e-04 - val_loss: 2.5926e-04\n",
      "Epoch 10/50\n",
      "3634/3634 [==============================] - 35s 10ms/step - loss: 2.0130e-04 - val_loss: 2.2715e-04\n",
      "Epoch 11/50\n",
      "3634/3634 [==============================] - 39s 11ms/step - loss: 1.9678e-04 - val_loss: 2.3819e-04\n",
      "Epoch 12/50\n",
      "3634/3634 [==============================] - 35s 10ms/step - loss: 1.9033e-04 - val_loss: 2.3651e-04\n",
      "Epoch 13/50\n",
      "3634/3634 [==============================] - 32s 9ms/step - loss: 1.8518e-04 - val_loss: 2.3673e-04\n",
      "Epoch 14/50\n",
      "3634/3634 [==============================] - 36s 10ms/step - loss: 1.8069e-04 - val_loss: 2.3590e-04\n",
      "Epoch 15/50\n",
      "3634/3634 [==============================] - 33s 9ms/step - loss: 1.7629e-04 - val_loss: 2.1615e-04\n",
      "Epoch 16/50\n",
      "3634/3634 [==============================] - 37s 10ms/step - loss: 1.7370e-04 - val_loss: 2.0447e-04\n",
      "Epoch 17/50\n",
      "3634/3634 [==============================] - 39s 11ms/step - loss: 1.6974e-04 - val_loss: 2.0611e-04\n",
      "Epoch 18/50\n",
      "3634/3634 [==============================] - 35s 10ms/step - loss: 1.6830e-04 - val_loss: 2.0630e-04\n",
      "Epoch 19/50\n",
      "3634/3634 [==============================] - 35s 10ms/step - loss: 1.6376e-04 - val_loss: 2.1503e-04\n",
      "Epoch 20/50\n",
      "3634/3634 [==============================] - 40s 11ms/step - loss: 1.6123e-04 - val_loss: 2.1486e-04\n",
      "Epoch 21/50\n",
      "3634/3634 [==============================] - 38s 11ms/step - loss: 1.6044e-04 - val_loss: 1.9397e-04\n",
      "Epoch 22/50\n",
      "3634/3634 [==============================] - 36s 10ms/step - loss: 1.5640e-04 - val_loss: 1.8925e-04\n",
      "Epoch 23/50\n",
      "3634/3634 [==============================] - 46s 13ms/step - loss: 1.5360e-04 - val_loss: 2.1080e-04\n",
      "Epoch 24/50\n",
      "3634/3634 [==============================] - 44s 12ms/step - loss: 1.5214e-04 - val_loss: 1.8942e-04\n",
      "Epoch 25/50\n",
      "3634/3634 [==============================] - 42s 12ms/step - loss: 1.4892e-04 - val_loss: 1.8454e-04\n",
      "Epoch 26/50\n",
      "3634/3634 [==============================] - 59s 16ms/step - loss: 1.4759e-04 - val_loss: 1.9131e-04\n",
      "Epoch 27/50\n",
      "3634/3634 [==============================] - 47s 13ms/step - loss: 1.4534e-04 - val_loss: 1.8519e-04\n",
      "Epoch 28/50\n",
      "3634/3634 [==============================] - 57s 16ms/step - loss: 1.4212e-04 - val_loss: 1.7977e-04\n",
      "Epoch 29/50\n",
      "3634/3634 [==============================] - 53s 14ms/step - loss: 1.4164e-04 - val_loss: 1.8260e-04\n",
      "Epoch 30/50\n",
      "3634/3634 [==============================] - 47s 13ms/step - loss: 1.3840e-04 - val_loss: 1.7566e-04\n",
      "Epoch 31/50\n",
      "3634/3634 [==============================] - 54s 15ms/step - loss: 1.3688e-04 - val_loss: 1.9379e-04\n",
      "Epoch 32/50\n",
      "3634/3634 [==============================] - 41s 11ms/step - loss: 1.3538e-04 - val_loss: 1.7743e-04\n",
      "Epoch 33/50\n",
      "3634/3634 [==============================] - 57s 16ms/step - loss: 1.3334e-04 - val_loss: 1.7831e-04\n",
      "Epoch 34/50\n",
      "3634/3634 [==============================] - 54s 15ms/step - loss: 1.3140e-04 - val_loss: 1.8608e-04\n",
      "Epoch 35/50\n",
      "3634/3634 [==============================] - 59s 16ms/step - loss: 1.3049e-04 - val_loss: 1.7435e-04\n",
      "Epoch 36/50\n",
      "3634/3634 [==============================] - 51s 14ms/step - loss: 1.2865e-04 - val_loss: 1.6295e-04\n",
      "Epoch 37/50\n",
      "3634/3634 [==============================] - 55s 15ms/step - loss: 1.2721e-04 - val_loss: 2.0322e-04\n",
      "Epoch 38/50\n",
      "3634/3634 [==============================] - 47s 13ms/step - loss: 1.2677e-04 - val_loss: 1.6819e-04\n",
      "Epoch 39/50\n",
      "3634/3634 [==============================] - 50s 14ms/step - loss: 1.2458e-04 - val_loss: 1.6548e-04\n",
      "Epoch 40/50\n",
      "3634/3634 [==============================] - 47s 13ms/step - loss: 1.2343e-04 - val_loss: 1.7745e-04\n",
      "Epoch 41/50\n",
      "3634/3634 [==============================] - 41s 11ms/step - loss: 1.2186e-04 - val_loss: 1.6438e-04\n",
      "Epoch 42/50\n",
      "3634/3634 [==============================] - 47s 13ms/step - loss: 1.2245e-04 - val_loss: 1.6745e-04\n",
      "Epoch 43/50\n",
      "3634/3634 [==============================] - 41s 11ms/step - loss: 1.1957e-04 - val_loss: 1.7914e-04\n",
      "Epoch 44/50\n",
      "3634/3634 [==============================] - 61s 17ms/step - loss: 1.1883e-04 - val_loss: 1.7059e-04\n",
      "Epoch 45/50\n",
      "3634/3634 [==============================] - 54s 15ms/step - loss: 1.1896e-04 - val_loss: 1.6382e-04\n",
      "Epoch 46/50\n",
      "3634/3634 [==============================] - 55s 15ms/step - loss: 1.1792e-04 - val_loss: 1.5729e-04\n",
      "Epoch 47/50\n",
      "3634/3634 [==============================] - 41s 11ms/step - loss: 1.1685e-04 - val_loss: 1.5161e-04\n",
      "Epoch 48/50\n",
      "3634/3634 [==============================] - 46s 13ms/step - loss: 1.1550e-04 - val_loss: 1.6935e-04\n",
      "Epoch 49/50\n",
      "3634/3634 [==============================] - 38s 10ms/step - loss: 1.1512e-04 - val_loss: 1.5748e-04\n",
      "Epoch 50/50\n",
      "3634/3634 [==============================] - 49s 13ms/step - loss: 1.1478e-04 - val_loss: 1.5114e-04\n"
     ]
    }
   ],
   "source": [
    "# Step 4: Train the Model\n",
    "history = model.fit(X_train, y_train, epochs=50, batch_size=32, validation_data=(X_test, y_test), verbose=1)\n"
   ]
  },
  {
   "cell_type": "code",
   "execution_count": 13,
   "id": "63b52fef",
   "metadata": {},
   "outputs": [
    {
     "name": "stdout",
     "output_type": "stream",
     "text": [
      "908/908 [==============================] - 5s 5ms/step\n",
      "Mean Absolute Error: 0.04952988495713872\n",
      "Mean Squared Error: 0.0081491244218052\n"
     ]
    }
   ],
   "source": [
    "# Step 5: Evaluate Performance\n",
    "predicted = model.predict(X_test)\n",
    "predicted = scaler.inverse_transform(predicted)\n",
    "y_test_inv = scaler.inverse_transform(y_test.reshape(-1, 1))\n",
    "\n",
    "mae = mean_absolute_error(y_test_inv, predicted)\n",
    "mse = mean_squared_error(y_test_inv, predicted)\n",
    "print(\"Mean Absolute Error:\", mae)\n",
    "print(\"Mean Squared Error:\", mse)"
   ]
  },
  {
   "cell_type": "code",
   "execution_count": 14,
   "id": "ca07f220",
   "metadata": {},
   "outputs": [
    {
     "data": {
      "image/png": "[encoded data removed]",
      "text/plain": [
       "<Figure size 1008x432 with 1 Axes>"
      ]
     },
     "metadata": {
      "needs_background": "light"
     },
     "output_type": "display_data"
    }
   ],
   "source": [
    "# Step 6: Visualize Results\n",
    "plt.figure(figsize=(14, 6))\n",
    "plt.plot(df.index[train_size + time_steps:], y_test_inv, label='Actual')\n",
    "plt.plot(df.index[train_size + time_steps:], predicted, label='Predicted')\n",
    "plt.legend()\n",
    "plt.title('LSTM Model Performance')\n",
    "plt.xlabel('Date')\n",
    "plt.ylabel('PJME_MW')\n",
    "plt.show()"
   ]
  },
  {
   "cell_type": "code",
   "execution_count": 15,
   "id": "fdb283d5",
   "metadata": {},
   "outputs": [],
   "source": [
    "import pickle\n",
    "\n",
    "# Define the filename for saving the model\n",
    "filename = 'D:/Study Material/semester 6/Data Mining Lab/Project/lstm_model.pkl'\n",
    "\n",
    "# Save the model to disk\n",
    "with open(filename, 'wb') as file:\n",
    "    pickle.dump(model, file)\n"
   ]
  },
  {
   "cell_type": "markdown",
   "id": "d3948bb9",
   "metadata": {},
   "source": [
    "# Hybrid"
   ]
  },
  {
   "cell_type": "code",
   "execution_count": 16,
   "id": "b38543cb",
   "metadata": {},
   "outputs": [
    {
     "data": {
      "text/html": [
       "<div>\n",
       "<style scoped>\n",
       "    .dataframe tbody tr th:only-of-type {\n",
       "        vertical-align: middle;\n",
       "    }\n",
       "\n",
       "    .dataframe tbody tr th {\n",
       "        vertical-align: top;\n",
       "    }\n",
       "\n",
       "    .dataframe thead th {\n",
       "        text-align: right;\n",
       "    }\n",
       "</style>\n",
       "<table border=\"1\" class=\"dataframe\">\n",
       "  <thead>\n",
       "    <tr style=\"text-align: right;\">\n",
       "      <th></th>\n",
       "      <th>PJME_MW</th>\n",
       "    </tr>\n",
       "    <tr>\n",
       "      <th>Datetime</th>\n",
       "      <th></th>\n",
       "    </tr>\n",
       "  </thead>\n",
       "  <tbody>\n",
       "    <tr>\n",
       "      <th>2002-12-31 01:00:00</th>\n",
       "      <td>-0.863588</td>\n",
       "    </tr>\n",
       "    <tr>\n",
       "      <th>2002-12-31 02:00:00</th>\n",
       "      <td>-1.072592</td>\n",
       "    </tr>\n",
       "    <tr>\n",
       "      <th>2002-12-31 03:00:00</th>\n",
       "      <td>-1.161237</td>\n",
       "    </tr>\n",
       "    <tr>\n",
       "      <th>2002-12-31 04:00:00</th>\n",
       "      <td>-1.189238</td>\n",
       "    </tr>\n",
       "    <tr>\n",
       "      <th>2002-12-31 05:00:00</th>\n",
       "      <td>-1.116992</td>\n",
       "    </tr>\n",
       "    <tr>\n",
       "      <th>...</th>\n",
       "      <td>...</td>\n",
       "    </tr>\n",
       "    <tr>\n",
       "      <th>2018-01-01 20:00:00</th>\n",
       "      <td>1.887964</td>\n",
       "    </tr>\n",
       "    <tr>\n",
       "      <th>2018-01-01 21:00:00</th>\n",
       "      <td>1.805507</td>\n",
       "    </tr>\n",
       "    <tr>\n",
       "      <th>2018-01-01 22:00:00</th>\n",
       "      <td>1.596812</td>\n",
       "    </tr>\n",
       "    <tr>\n",
       "      <th>2018-01-01 23:00:00</th>\n",
       "      <td>1.250586</td>\n",
       "    </tr>\n",
       "    <tr>\n",
       "      <th>2018-01-02 00:00:00</th>\n",
       "      <td>1.009868</td>\n",
       "    </tr>\n",
       "  </tbody>\n",
       "</table>\n",
       "<p>145366 rows × 1 columns</p>\n",
       "</div>"
      ],
      "text/plain": [
       "                      PJME_MW\n",
       "Datetime                     \n",
       "2002-12-31 01:00:00 -0.863588\n",
       "2002-12-31 02:00:00 -1.072592\n",
       "2002-12-31 03:00:00 -1.161237\n",
       "2002-12-31 04:00:00 -1.189238\n",
       "2002-12-31 05:00:00 -1.116992\n",
       "...                       ...\n",
       "2018-01-01 20:00:00  1.887964\n",
       "2018-01-01 21:00:00  1.805507\n",
       "2018-01-01 22:00:00  1.596812\n",
       "2018-01-01 23:00:00  1.250586\n",
       "2018-01-02 00:00:00  1.009868\n",
       "\n",
       "[145366 rows x 1 columns]"
      ]
     },
     "execution_count": 16,
     "metadata": {},
     "output_type": "execute_result"
    }
   ],
   "source": [
    "df"
   ]
  },
  {
   "cell_type": "code",
   "execution_count": 17,
   "id": "3d4bf472",
   "metadata": {},
   "outputs": [],
   "source": [
    "import pandas as pd\n",
    "import numpy as np\n",
    "from statsmodels.tsa.arima.model import ARIMA\n",
    "from sklearn.preprocessing import MinMaxScaler\n",
    "from sklearn.model_selection import train_test_split\n",
    "from tensorflow.keras.models import Sequential\n",
    "from tensorflow.keras.layers import Dense\n",
    "import matplotlib.pyplot as plt\n",
    "from sklearn.metrics import mean_absolute_error, mean_squared_error"
   ]
  },
  {
   "cell_type": "code",
   "execution_count": 18,
   "id": "9b7a971b",
   "metadata": {},
   "outputs": [
    {
     "name": "stderr",
     "output_type": "stream",
     "text": [
      "C:\\Users\\ahmad\\anaconda3\\lib\\site-packages\\statsmodels\\tsa\\base\\tsa_model.py:471: ValueWarning: A date index has been provided, but it has no associated frequency information and so will be ignored when e.g. forecasting.\n",
      "  self._init_dates(dates, freq)\n",
      "C:\\Users\\ahmad\\anaconda3\\lib\\site-packages\\statsmodels\\tsa\\base\\tsa_model.py:471: ValueWarning: A date index has been provided, but it is not monotonic and so will be ignored when e.g. forecasting.\n",
      "  self._init_dates(dates, freq)\n",
      "C:\\Users\\ahmad\\anaconda3\\lib\\site-packages\\statsmodels\\tsa\\base\\tsa_model.py:471: ValueWarning: A date index has been provided, but it has no associated frequency information and so will be ignored when e.g. forecasting.\n",
      "  self._init_dates(dates, freq)\n",
      "C:\\Users\\ahmad\\anaconda3\\lib\\site-packages\\statsmodels\\tsa\\base\\tsa_model.py:471: ValueWarning: A date index has been provided, but it is not monotonic and so will be ignored when e.g. forecasting.\n",
      "  self._init_dates(dates, freq)\n",
      "C:\\Users\\ahmad\\anaconda3\\lib\\site-packages\\statsmodels\\tsa\\base\\tsa_model.py:471: ValueWarning: A date index has been provided, but it has no associated frequency information and so will be ignored when e.g. forecasting.\n",
      "  self._init_dates(dates, freq)\n",
      "C:\\Users\\ahmad\\anaconda3\\lib\\site-packages\\statsmodels\\tsa\\base\\tsa_model.py:471: ValueWarning: A date index has been provided, but it is not monotonic and so will be ignored when e.g. forecasting.\n",
      "  self._init_dates(dates, freq)\n",
      "C:\\Users\\ahmad\\anaconda3\\lib\\site-packages\\statsmodels\\tsa\\base\\tsa_model.py:834: ValueWarning: No supported index is available. Prediction results will be given with an integer index beginning at `start`.\n",
      "  return get_prediction_index(\n"
     ]
    },
    {
     "name": "stdout",
     "output_type": "stream",
     "text": [
      "152/152 [==============================] - 0s 675us/step\n"
     ]
    },
    {
     "name": "stderr",
     "output_type": "stream",
     "text": [
      "C:\\Users\\ahmad\\anaconda3\\lib\\site-packages\\statsmodels\\tsa\\base\\tsa_model.py:471: ValueWarning: A date index has been provided, but it has no associated frequency information and so will be ignored when e.g. forecasting.\n",
      "  self._init_dates(dates, freq)\n",
      "C:\\Users\\ahmad\\anaconda3\\lib\\site-packages\\statsmodels\\tsa\\base\\tsa_model.py:471: ValueWarning: A date index has been provided, but it is not monotonic and so will be ignored when e.g. forecasting.\n",
      "  self._init_dates(dates, freq)\n",
      "C:\\Users\\ahmad\\anaconda3\\lib\\site-packages\\statsmodels\\tsa\\base\\tsa_model.py:471: ValueWarning: A date index has been provided, but it has no associated frequency information and so will be ignored when e.g. forecasting.\n",
      "  self._init_dates(dates, freq)\n",
      "C:\\Users\\ahmad\\anaconda3\\lib\\site-packages\\statsmodels\\tsa\\base\\tsa_model.py:471: ValueWarning: A date index has been provided, but it is not monotonic and so will be ignored when e.g. forecasting.\n",
      "  self._init_dates(dates, freq)\n",
      "C:\\Users\\ahmad\\anaconda3\\lib\\site-packages\\statsmodels\\tsa\\base\\tsa_model.py:471: ValueWarning: A date index has been provided, but it has no associated frequency information and so will be ignored when e.g. forecasting.\n",
      "  self._init_dates(dates, freq)\n",
      "C:\\Users\\ahmad\\anaconda3\\lib\\site-packages\\statsmodels\\tsa\\base\\tsa_model.py:471: ValueWarning: A date index has been provided, but it is not monotonic and so will be ignored when e.g. forecasting.\n",
      "  self._init_dates(dates, freq)\n",
      "C:\\Users\\ahmad\\anaconda3\\lib\\site-packages\\statsmodels\\tsa\\base\\tsa_model.py:834: ValueWarning: No supported index is available. Prediction results will be given with an integer index beginning at `start`.\n",
      "  return get_prediction_index(\n"
     ]
    },
    {
     "name": "stdout",
     "output_type": "stream",
     "text": [
      "152/152 [==============================] - 0s 899us/step\n"
     ]
    },
    {
     "name": "stderr",
     "output_type": "stream",
     "text": [
      "C:\\Users\\ahmad\\anaconda3\\lib\\site-packages\\statsmodels\\tsa\\base\\tsa_model.py:471: ValueWarning: A date index has been provided, but it has no associated frequency information and so will be ignored when e.g. forecasting.\n",
      "  self._init_dates(dates, freq)\n",
      "C:\\Users\\ahmad\\anaconda3\\lib\\site-packages\\statsmodels\\tsa\\base\\tsa_model.py:471: ValueWarning: A date index has been provided, but it is not monotonic and so will be ignored when e.g. forecasting.\n",
      "  self._init_dates(dates, freq)\n",
      "C:\\Users\\ahmad\\anaconda3\\lib\\site-packages\\statsmodels\\tsa\\base\\tsa_model.py:471: ValueWarning: A date index has been provided, but it has no associated frequency information and so will be ignored when e.g. forecasting.\n",
      "  self._init_dates(dates, freq)\n",
      "C:\\Users\\ahmad\\anaconda3\\lib\\site-packages\\statsmodels\\tsa\\base\\tsa_model.py:471: ValueWarning: A date index has been provided, but it is not monotonic and so will be ignored when e.g. forecasting.\n",
      "  self._init_dates(dates, freq)\n",
      "C:\\Users\\ahmad\\anaconda3\\lib\\site-packages\\statsmodels\\tsa\\base\\tsa_model.py:471: ValueWarning: A date index has been provided, but it has no associated frequency information and so will be ignored when e.g. forecasting.\n",
      "  self._init_dates(dates, freq)\n",
      "C:\\Users\\ahmad\\anaconda3\\lib\\site-packages\\statsmodels\\tsa\\base\\tsa_model.py:471: ValueWarning: A date index has been provided, but it is not monotonic and so will be ignored when e.g. forecasting.\n",
      "  self._init_dates(dates, freq)\n",
      "C:\\Users\\ahmad\\anaconda3\\lib\\site-packages\\statsmodels\\tsa\\base\\tsa_model.py:834: ValueWarning: No supported index is available. Prediction results will be given with an integer index beginning at `start`.\n",
      "  return get_prediction_index(\n"
     ]
    },
    {
     "name": "stdout",
     "output_type": "stream",
     "text": [
      "152/152 [==============================] - 0s 792us/step\n"
     ]
    },
    {
     "name": "stderr",
     "output_type": "stream",
     "text": [
      "C:\\Users\\ahmad\\anaconda3\\lib\\site-packages\\statsmodels\\tsa\\base\\tsa_model.py:471: ValueWarning: A date index has been provided, but it has no associated frequency information and so will be ignored when e.g. forecasting.\n",
      "  self._init_dates(dates, freq)\n",
      "C:\\Users\\ahmad\\anaconda3\\lib\\site-packages\\statsmodels\\tsa\\base\\tsa_model.py:471: ValueWarning: A date index has been provided, but it is not monotonic and so will be ignored when e.g. forecasting.\n",
      "  self._init_dates(dates, freq)\n",
      "C:\\Users\\ahmad\\anaconda3\\lib\\site-packages\\statsmodels\\tsa\\base\\tsa_model.py:471: ValueWarning: A date index has been provided, but it has no associated frequency information and so will be ignored when e.g. forecasting.\n",
      "  self._init_dates(dates, freq)\n",
      "C:\\Users\\ahmad\\anaconda3\\lib\\site-packages\\statsmodels\\tsa\\base\\tsa_model.py:471: ValueWarning: A date index has been provided, but it is not monotonic and so will be ignored when e.g. forecasting.\n",
      "  self._init_dates(dates, freq)\n",
      "C:\\Users\\ahmad\\anaconda3\\lib\\site-packages\\statsmodels\\tsa\\base\\tsa_model.py:471: ValueWarning: A date index has been provided, but it has no associated frequency information and so will be ignored when e.g. forecasting.\n",
      "  self._init_dates(dates, freq)\n",
      "C:\\Users\\ahmad\\anaconda3\\lib\\site-packages\\statsmodels\\tsa\\base\\tsa_model.py:471: ValueWarning: A date index has been provided, but it is not monotonic and so will be ignored when e.g. forecasting.\n",
      "  self._init_dates(dates, freq)\n",
      "C:\\Users\\ahmad\\anaconda3\\lib\\site-packages\\statsmodels\\tsa\\base\\tsa_model.py:834: ValueWarning: No supported index is available. Prediction results will be given with an integer index beginning at `start`.\n",
      "  return get_prediction_index(\n"
     ]
    },
    {
     "name": "stdout",
     "output_type": "stream",
     "text": [
      "152/152 [==============================] - 0s 730us/step\n"
     ]
    },
    {
     "name": "stderr",
     "output_type": "stream",
     "text": [
      "C:\\Users\\ahmad\\anaconda3\\lib\\site-packages\\statsmodels\\tsa\\base\\tsa_model.py:471: ValueWarning: A date index has been provided, but it has no associated frequency information and so will be ignored when e.g. forecasting.\n",
      "  self._init_dates(dates, freq)\n",
      "C:\\Users\\ahmad\\anaconda3\\lib\\site-packages\\statsmodels\\tsa\\base\\tsa_model.py:471: ValueWarning: A date index has been provided, but it is not monotonic and so will be ignored when e.g. forecasting.\n",
      "  self._init_dates(dates, freq)\n",
      "C:\\Users\\ahmad\\anaconda3\\lib\\site-packages\\statsmodels\\tsa\\base\\tsa_model.py:471: ValueWarning: A date index has been provided, but it has no associated frequency information and so will be ignored when e.g. forecasting.\n",
      "  self._init_dates(dates, freq)\n",
      "C:\\Users\\ahmad\\anaconda3\\lib\\site-packages\\statsmodels\\tsa\\base\\tsa_model.py:471: ValueWarning: A date index has been provided, but it is not monotonic and so will be ignored when e.g. forecasting.\n",
      "  self._init_dates(dates, freq)\n",
      "C:\\Users\\ahmad\\anaconda3\\lib\\site-packages\\statsmodels\\tsa\\base\\tsa_model.py:471: ValueWarning: A date index has been provided, but it has no associated frequency information and so will be ignored when e.g. forecasting.\n",
      "  self._init_dates(dates, freq)\n",
      "C:\\Users\\ahmad\\anaconda3\\lib\\site-packages\\statsmodels\\tsa\\base\\tsa_model.py:471: ValueWarning: A date index has been provided, but it is not monotonic and so will be ignored when e.g. forecasting.\n",
      "  self._init_dates(dates, freq)\n",
      "C:\\Users\\ahmad\\anaconda3\\lib\\site-packages\\statsmodels\\tsa\\base\\tsa_model.py:834: ValueWarning: No supported index is available. Prediction results will be given with an integer index beginning at `start`.\n",
      "  return get_prediction_index(\n"
     ]
    },
    {
     "name": "stdout",
     "output_type": "stream",
     "text": [
      "152/152 [==============================] - 0s 679us/step\n",
      "Mean Absolute Error (MAE) across all folds: 1.1125372771001765\n",
      "Mean Squared Error (MSE) across all folds: 2.0117667707505764\n"
     ]
    }
   ],
   "source": [
    "from sklearn.model_selection import TimeSeriesSplit\n",
    "\n",
    "# Initialize lists to store accuracy metrics\n",
    "mae_list = []\n",
    "mse_list = []\n",
    "\n",
    "# Split data into train and test sets using TimeSeriesSplit\n",
    "tscv = TimeSeriesSplit(n_splits=5)\n",
    "for train_index, test_index in tscv.split(df):\n",
    "    train, test = df.iloc[train_index], df.iloc[test_index]\n",
    "    \n",
    "    # Fit ARIMA model\n",
    "    arima_model = ARIMA(train['PJME_MW'], order=(5,1,0))\n",
    "    arima_model_fit = arima_model.fit()\n",
    "    \n",
    "    # Generate ARIMA forecasts for the current fold\n",
    "    arima_forecast = arima_model_fit.forecast(steps=len(test))\n",
    "    \n",
    "    # Calculate residuals\n",
    "    residuals = test['PJME_MW'].values - arima_forecast\n",
    "    \n",
    "    # Train ANN model on residuals\n",
    "    scaler = MinMaxScaler(feature_range=(-1, 1))\n",
    "    residuals_scaled = scaler.fit_transform(residuals.values.reshape(-1, 1))  # Convert to NumPy array\n",
    "    \n",
    "    X = []\n",
    "    y = []\n",
    "    look_back = 24  # Assuming using last 24 hours for prediction\n",
    "\n",
    "    for i in range(len(residuals_scaled) - look_back):\n",
    "        X.append(residuals_scaled[i:i+look_back])\n",
    "        y.append(residuals_scaled[i+look_back])\n",
    "\n",
    "    X, y = np.array(X), np.array(y)\n",
    "\n",
    "    X_train, X_test, y_train, y_test = train_test_split(X, y, test_size=0.2, random_state=42)\n",
    "\n",
    "    model = Sequential([\n",
    "        Dense(64, input_shape=(look_back,), activation='relu'),\n",
    "        Dense(32, activation='relu'),\n",
    "        Dense(1)\n",
    "    ])\n",
    "\n",
    "    model.compile(optimizer='adam', loss='mse')\n",
    "    model.fit(X_train, y_train, epochs=50, batch_size=32, verbose=0)\n",
    "\n",
    "    # Combine ARIMA forecasts with ANN predictions\n",
    "    ann_forecast = model.predict(X_test).reshape(-1)\n",
    "    \n",
    "    # Ensure the lengths of forecasts match\n",
    "    min_len = min(len(arima_forecast), len(ann_forecast))\n",
    "    arima_forecast = arima_forecast[:min_len]\n",
    "    ann_forecast = ann_forecast[:min_len]\n",
    "    \n",
    "    hybrid_forecast = arima_forecast + scaler.inverse_transform(ann_forecast.reshape(-1, 1)).reshape(-1)\n",
    "    \n",
    "    # Evaluate accuracy metrics for the current fold\n",
    "    mae = mean_absolute_error(test['PJME_MW'][:min_len], hybrid_forecast)\n",
    "    mse = mean_squared_error(test['PJME_MW'][:min_len], hybrid_forecast)\n",
    "    \n",
    "    # Append accuracy metrics to lists\n",
    "    mae_list.append(mae)\n",
    "    mse_list.append(mse)\n",
    "\n",
    "# Compute the mean of accuracy metrics across all folds\n",
    "mean_mae = np.mean(mae_list)\n",
    "mean_mse = np.mean(mse_list)\n",
    "\n",
    "print(f'Mean Absolute Error (MAE) across all folds: {mean_mae}')\n",
    "print(f'Mean Squared Error (MSE) across all folds: {mean_mse}')\n"
   ]
  },
  {
   "cell_type": "code",
   "execution_count": 19,
   "id": "0411be9b",
   "metadata": {},
   "outputs": [
    {
     "data": {
      "image/png": "[encoded data removed]",
      "text/plain": [
       "<Figure size 864x432 with 1 Axes>"
      ]
     },
     "metadata": {
      "needs_background": "light"
     },
     "output_type": "display_data"
    }
   ],
   "source": [
    "# Step 7: Visualize the forecast results\n",
    "plt.figure(figsize=(12, 6))\n",
    "plt.plot(test.index[:len(hybrid_forecast)], test['PJME_MW'][:len(hybrid_forecast)], label='Actual')\n",
    "plt.plot(test.index[:len(hybrid_forecast)], hybrid_forecast, label='Hybrid Forecast')\n",
    "plt.xlabel('Date')\n",
    "plt.ylabel('PJME_MW')\n",
    "plt.title('Hybrid ARIMA-ANN Forecast')\n",
    "plt.legend()\n",
    "plt.show()\n"
   ]
  },
  {
   "cell_type": "code",
   "execution_count": 20,
   "id": "4595585f",
   "metadata": {},
   "outputs": [
    {
     "name": "stderr",
     "output_type": "stream",
     "text": [
      "C:\\Users\\ahmad\\anaconda3\\lib\\site-packages\\statsmodels\\tsa\\base\\tsa_model.py:471: ValueWarning: A date index has been provided, but it has no associated frequency information and so will be ignored when e.g. forecasting.\n",
      "  self._init_dates(dates, freq)\n",
      "C:\\Users\\ahmad\\anaconda3\\lib\\site-packages\\statsmodels\\tsa\\base\\tsa_model.py:471: ValueWarning: A date index has been provided, but it is not monotonic and so will be ignored when e.g. forecasting.\n",
      "  self._init_dates(dates, freq)\n",
      "C:\\Users\\ahmad\\anaconda3\\lib\\site-packages\\statsmodels\\tsa\\base\\tsa_model.py:471: ValueWarning: A date index has been provided, but it has no associated frequency information and so will be ignored when e.g. forecasting.\n",
      "  self._init_dates(dates, freq)\n",
      "C:\\Users\\ahmad\\anaconda3\\lib\\site-packages\\statsmodels\\tsa\\base\\tsa_model.py:471: ValueWarning: A date index has been provided, but it is not monotonic and so will be ignored when e.g. forecasting.\n",
      "  self._init_dates(dates, freq)\n",
      "C:\\Users\\ahmad\\anaconda3\\lib\\site-packages\\statsmodels\\tsa\\base\\tsa_model.py:471: ValueWarning: A date index has been provided, but it has no associated frequency information and so will be ignored when e.g. forecasting.\n",
      "  self._init_dates(dates, freq)\n",
      "C:\\Users\\ahmad\\anaconda3\\lib\\site-packages\\statsmodels\\tsa\\base\\tsa_model.py:471: ValueWarning: A date index has been provided, but it is not monotonic and so will be ignored when e.g. forecasting.\n",
      "  self._init_dates(dates, freq)\n",
      "C:\\Users\\ahmad\\anaconda3\\lib\\site-packages\\statsmodels\\tsa\\base\\tsa_model.py:471: ValueWarning: A date index has been provided, but it has no associated frequency information and so will be ignored when e.g. forecasting.\n",
      "  self._init_dates(dates, freq)\n",
      "C:\\Users\\ahmad\\anaconda3\\lib\\site-packages\\statsmodels\\tsa\\base\\tsa_model.py:471: ValueWarning: A date index has been provided, but it is not monotonic and so will be ignored when e.g. forecasting.\n",
      "  self._init_dates(dates, freq)\n",
      "C:\\Users\\ahmad\\anaconda3\\lib\\site-packages\\statsmodels\\tsa\\base\\tsa_model.py:471: ValueWarning: A date index has been provided, but it has no associated frequency information and so will be ignored when e.g. forecasting.\n",
      "  self._init_dates(dates, freq)\n",
      "C:\\Users\\ahmad\\anaconda3\\lib\\site-packages\\statsmodels\\tsa\\base\\tsa_model.py:471: ValueWarning: A date index has been provided, but it is not monotonic and so will be ignored when e.g. forecasting.\n",
      "  self._init_dates(dates, freq)\n",
      "C:\\Users\\ahmad\\anaconda3\\lib\\site-packages\\statsmodels\\tsa\\base\\tsa_model.py:471: ValueWarning: A date index has been provided, but it has no associated frequency information and so will be ignored when e.g. forecasting.\n",
      "  self._init_dates(dates, freq)\n",
      "C:\\Users\\ahmad\\anaconda3\\lib\\site-packages\\statsmodels\\tsa\\base\\tsa_model.py:471: ValueWarning: A date index has been provided, but it is not monotonic and so will be ignored when e.g. forecasting.\n",
      "  self._init_dates(dates, freq)\n",
      "C:\\Users\\ahmad\\anaconda3\\lib\\site-packages\\statsmodels\\tsa\\base\\tsa_model.py:471: ValueWarning: A date index has been provided, but it has no associated frequency information and so will be ignored when e.g. forecasting.\n",
      "  self._init_dates(dates, freq)\n",
      "C:\\Users\\ahmad\\anaconda3\\lib\\site-packages\\statsmodels\\tsa\\base\\tsa_model.py:471: ValueWarning: A date index has been provided, but it is not monotonic and so will be ignored when e.g. forecasting.\n",
      "  self._init_dates(dates, freq)\n",
      "C:\\Users\\ahmad\\anaconda3\\lib\\site-packages\\statsmodels\\tsa\\base\\tsa_model.py:471: ValueWarning: A date index has been provided, but it has no associated frequency information and so will be ignored when e.g. forecasting.\n",
      "  self._init_dates(dates, freq)\n",
      "C:\\Users\\ahmad\\anaconda3\\lib\\site-packages\\statsmodels\\tsa\\base\\tsa_model.py:471: ValueWarning: A date index has been provided, but it is not monotonic and so will be ignored when e.g. forecasting.\n",
      "  self._init_dates(dates, freq)\n",
      "C:\\Users\\ahmad\\anaconda3\\lib\\site-packages\\statsmodels\\tsa\\base\\tsa_model.py:471: ValueWarning: A date index has been provided, but it has no associated frequency information and so will be ignored when e.g. forecasting.\n",
      "  self._init_dates(dates, freq)\n",
      "C:\\Users\\ahmad\\anaconda3\\lib\\site-packages\\statsmodels\\tsa\\base\\tsa_model.py:471: ValueWarning: A date index has been provided, but it is not monotonic and so will be ignored when e.g. forecasting.\n",
      "  self._init_dates(dates, freq)\n",
      "C:\\Users\\ahmad\\anaconda3\\lib\\site-packages\\statsmodels\\tsa\\base\\tsa_model.py:471: ValueWarning: A date index has been provided, but it has no associated frequency information and so will be ignored when e.g. forecasting.\n",
      "  self._init_dates(dates, freq)\n",
      "C:\\Users\\ahmad\\anaconda3\\lib\\site-packages\\statsmodels\\tsa\\base\\tsa_model.py:471: ValueWarning: A date index has been provided, but it is not monotonic and so will be ignored when e.g. forecasting.\n",
      "  self._init_dates(dates, freq)\n",
      "C:\\Users\\ahmad\\anaconda3\\lib\\site-packages\\statsmodels\\tsa\\base\\tsa_model.py:471: ValueWarning: A date index has been provided, but it has no associated frequency information and so will be ignored when e.g. forecasting.\n",
      "  self._init_dates(dates, freq)\n",
      "C:\\Users\\ahmad\\anaconda3\\lib\\site-packages\\statsmodels\\tsa\\base\\tsa_model.py:471: ValueWarning: A date index has been provided, but it is not monotonic and so will be ignored when e.g. forecasting.\n",
      "  self._init_dates(dates, freq)\n",
      "C:\\Users\\ahmad\\anaconda3\\lib\\site-packages\\statsmodels\\tsa\\base\\tsa_model.py:471: ValueWarning: A date index has been provided, but it has no associated frequency information and so will be ignored when e.g. forecasting.\n",
      "  self._init_dates(dates, freq)\n",
      "C:\\Users\\ahmad\\anaconda3\\lib\\site-packages\\statsmodels\\tsa\\base\\tsa_model.py:471: ValueWarning: A date index has been provided, but it is not monotonic and so will be ignored when e.g. forecasting.\n",
      "  self._init_dates(dates, freq)\n",
      "C:\\Users\\ahmad\\anaconda3\\lib\\site-packages\\statsmodels\\tsa\\base\\tsa_model.py:471: ValueWarning: A date index has been provided, but it has no associated frequency information and so will be ignored when e.g. forecasting.\n",
      "  self._init_dates(dates, freq)\n",
      "C:\\Users\\ahmad\\anaconda3\\lib\\site-packages\\statsmodels\\tsa\\base\\tsa_model.py:471: ValueWarning: A date index has been provided, but it is not monotonic and so will be ignored when e.g. forecasting.\n",
      "  self._init_dates(dates, freq)\n",
      "C:\\Users\\ahmad\\anaconda3\\lib\\site-packages\\statsmodels\\tsa\\base\\tsa_model.py:471: ValueWarning: A date index has been provided, but it has no associated frequency information and so will be ignored when e.g. forecasting.\n",
      "  self._init_dates(dates, freq)\n",
      "C:\\Users\\ahmad\\anaconda3\\lib\\site-packages\\statsmodels\\tsa\\base\\tsa_model.py:471: ValueWarning: A date index has been provided, but it is not monotonic and so will be ignored when e.g. forecasting.\n",
      "  self._init_dates(dates, freq)\n",
      "C:\\Users\\ahmad\\anaconda3\\lib\\site-packages\\statsmodels\\tsa\\base\\tsa_model.py:471: ValueWarning: A date index has been provided, but it has no associated frequency information and so will be ignored when e.g. forecasting.\n",
      "  self._init_dates(dates, freq)\n",
      "C:\\Users\\ahmad\\anaconda3\\lib\\site-packages\\statsmodels\\tsa\\base\\tsa_model.py:471: ValueWarning: A date index has been provided, but it is not monotonic and so will be ignored when e.g. forecasting.\n",
      "  self._init_dates(dates, freq)\n"
     ]
    }
   ],
   "source": [
    "import pickle\n",
    "\n",
    "# Define the filename for saving the combined model\n",
    "combined_model_filename = 'D:/Study Material/semester 6/Data Mining Lab/Project/combined_model.pkl'\n",
    "\n",
    "# Create a dictionary to store the models\n",
    "hybrid_model = {'ARIMA_models': [], 'ANN_model': model}\n",
    "\n",
    "# Save ARIMA models to the dictionary\n",
    "for train_index, _ in tscv.split(df):\n",
    "    train = df.iloc[train_index]\n",
    "    arima_model = ARIMA(train['PJME_MW'], order=(5,1,0))\n",
    "    arima_model_fit = arima_model.fit()\n",
    "    hybrid_model['ARIMA_models'].append(arima_model_fit)\n",
    "\n",
    "# Save the combined model to disk\n",
    "with open(combined_model_filename, 'wb') as file:\n",
    "    pickle.dump(hybrid_model, file)\n"
   ]
  },
  {
   "cell_type": "code",
   "execution_count": null,
   "id": "1230f163",
   "metadata": {},
   "outputs": [],
   "source": []
  }
 ],
 "metadata": {
  "kernelspec": {
   "display_name": "Python 3 (ipykernel)",
   "language": "python",
   "name": "python3"
  },
  "language_info": {
   "codemirror_mode": {
    "name": "ipython",
    "version": 3
   },
   "file_extension": ".py",
   "mimetype": "text/x-python",
   "name": "python",
   "nbconvert_exporter": "python",
   "pygments_lexer": "ipython3",
   "version": "3.9.12"
  }
 },
 "nbformat": 4,
 "nbformat_minor": 5
}
